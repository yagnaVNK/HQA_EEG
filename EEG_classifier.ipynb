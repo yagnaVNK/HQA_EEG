{
 "cells": [
  {
   "cell_type": "markdown",
   "id": "451b07d8",
   "metadata": {
    "papermill": {
     "duration": 0.004801,
     "end_time": "2024-01-18T12:14:52.437338",
     "exception": false,
     "start_time": "2024-01-18T12:14:52.432537",
     "status": "completed"
    },
    "tags": []
   },
   "source": [
    "# Fix seeds"
   ]
  },
  {
   "cell_type": "code",
   "execution_count": 1,
   "id": "4c3f0d1e",
   "metadata": {
    "execution": {
     "iopub.execute_input": "2024-01-18T12:14:52.448931Z",
     "iopub.status.busy": "2024-01-18T12:14:52.448151Z",
     "iopub.status.idle": "2024-01-18T12:14:53.889683Z",
     "shell.execute_reply": "2024-01-18T12:14:53.888755Z"
    },
    "papermill": {
     "duration": 1.449627,
     "end_time": "2024-01-18T12:14:53.891811",
     "exception": false,
     "start_time": "2024-01-18T12:14:52.442184",
     "status": "completed"
    },
    "tags": []
   },
   "outputs": [
    {
     "name": "stdout",
     "output_type": "stream",
     "text": [
      "cuda:0\n"
     ]
    }
   ],
   "source": [
    "import os\n",
    "import torch\n",
    "import random\n",
    "import numpy as np\n",
    "\n",
    "seed = 1996\n",
    "\n",
    "random.seed(seed)\n",
    "\n",
    "np.random.seed(seed)\n",
    "\n",
    "torch.manual_seed(seed)\n",
    "torch.cuda.manual_seed(seed)\n",
    "torch.cuda.manual_seed_all(seed)\n",
    "\n",
    "torch.backends.cudnn.determenistic = True\n",
    "torch.use_deterministic_algorithms(True)\n",
    "\n",
    "os.environ['PYTHONHASHSEED'] = str(seed)\n",
    "\n",
    "device = 'cuda:0' if torch.cuda.is_available() else 'cpu'\n",
    "\n",
    "print(device)"
   ]
  },
  {
   "cell_type": "markdown",
   "id": "1d470aaa",
   "metadata": {
    "papermill": {
     "duration": 0.005197,
     "end_time": "2024-01-18T12:14:53.902285",
     "exception": false,
     "start_time": "2024-01-18T12:14:53.897088",
     "status": "completed"
    },
    "tags": []
   },
   "source": [
    "# Load train data"
   ]
  },
  {
   "cell_type": "code",
   "execution_count": 2,
   "id": "9ca934e0",
   "metadata": {},
   "outputs": [
    {
     "name": "stdout",
     "output_type": "stream",
     "text": [
      "e:\\GitHub\\HQA_EEG\\data\\train\n"
     ]
    },
    {
     "name": "stderr",
     "output_type": "stream",
     "text": [
      "100%|██████████| 96/96 [00:33<00:00,  2.85it/s]"
     ]
    },
    {
     "name": "stdout",
     "output_type": "stream",
     "text": [
      "94\n"
     ]
    },
    {
     "name": "stderr",
     "output_type": "stream",
     "text": [
      "\n"
     ]
    }
   ],
   "source": [
    "import pandas as pd\n",
    "from tqdm import tqdm\n",
    "from pathlib import Path\n",
    "\n",
    "xs = []\n",
    "ys = []\n",
    "ys_ = []\n",
    "\n",
    "traindir = Path('./data/train/')\n",
    "print(traindir.absolute())\n",
    "\n",
    "\n",
    "for datapath in tqdm([*sorted(traindir.glob('*_data.csv'))]):\n",
    "    eventpath = datapath.parent / ( datapath.stem[:-5] + '_events.csv' )\n",
    "    \n",
    "    \n",
    "    x = pd.read_csv(datapath)\n",
    "    y = pd.read_csv(eventpath)\n",
    "\n",
    "    x = x.iloc[:,1:].values\n",
    "    y_ = y.iloc[:,1:].values\n",
    "\n",
    "    xs.append(x.astype(np.float32))\n",
    "    ys.append(y_.astype(np.uint8))\n",
    "\n",
    "xs_train = xs[:-2]\n",
    "ys_train = ys[:-2]\n",
    "\n",
    "xs_valid = xs[-2:]\n",
    "ys_valid = ys[-2:]\n",
    "\n",
    "print(len(xs_train))\n"
   ]
  },
  {
   "cell_type": "code",
   "execution_count": 3,
   "id": "566ff9d0",
   "metadata": {
    "execution": {
     "iopub.execute_input": "2024-01-18T12:16:46.661297Z",
     "iopub.status.busy": "2024-01-18T12:16:46.660973Z",
     "iopub.status.idle": "2024-01-18T12:16:46.864075Z",
     "shell.execute_reply": "2024-01-18T12:16:46.863248Z"
    },
    "papermill": {
     "duration": 0.219365,
     "end_time": "2024-01-18T12:16:46.866253",
     "exception": false,
     "start_time": "2024-01-18T12:16:46.646888",
     "status": "completed"
    },
    "tags": []
   },
   "outputs": [],
   "source": [
    "import ecgmentations as E\n",
    "\n",
    "from torch.utils.data import DataLoader, Dataset\n",
    "\n",
    "class EEGDataset(Dataset):\n",
    "    def __init__(self, x, y, augs=dict, train=False):\n",
    "        self.x = x\n",
    "        self.y = y\n",
    "        self.augs = augs\n",
    "        \n",
    "        self.train = train\n",
    "\n",
    "    def __getitem__(self, idx):\n",
    "        eeg = self.x[idx]\n",
    "        mask = self.y[idx]\n",
    "\n",
    "        if self.train:\n",
    "            length = mask.shape[0]\n",
    "\n",
    "            size = 5000\n",
    "            smask = (np.sum(mask[:-size], axis=1) > 0).astype(np.uint8)\n",
    "            smask = smask * 5 + 1\n",
    "            p = smask / smask.sum()\n",
    "\n",
    "            jdx = np.random.choice(length-size, p=p)\n",
    "\n",
    "            eeg = eeg[jdx:jdx+size]\n",
    "            mask = mask[jdx:jdx+size]\n",
    "\n",
    "        auged = self.augs(ecg=eeg, mask=mask)\n",
    "        eeg, mask = auged['ecg'], auged['mask']\n",
    "\n",
    "        return eeg.T, mask.T\n",
    "\n",
    "    def __len__(self):\n",
    "        return len(self.x)\n",
    "\n",
    "augs = E.Sequential([\n",
    "    E.TimeCrop(length=5000, p=1.0),\n",
    "])\n",
    "\n",
    "dataset = EEGDataset(xs_train, ys_train, augs, True) \n",
    "train_dataloader = DataLoader(dataset, batch_size=25, shuffle=True)\n",
    "\n",
    "dataset = EEGDataset(xs_train, ys_train) \n",
    "train_dataloader_ = DataLoader(dataset, batch_size=1,shuffle=False)\n",
    "\n",
    "dataset = EEGDataset(xs_valid, ys_valid)\n",
    "valid_dataloader = DataLoader(dataset, batch_size=1, shuffle=False)"
   ]
  },
  {
   "cell_type": "markdown",
   "id": "aaae53c6",
   "metadata": {
    "papermill": {
     "duration": 0.012815,
     "end_time": "2024-01-18T12:16:46.892354",
     "exception": false,
     "start_time": "2024-01-18T12:16:46.879539",
     "status": "completed"
    },
    "tags": []
   },
   "source": [
    "# Train model"
   ]
  },
  {
   "cell_type": "code",
   "execution_count": 4,
   "id": "57cb9266",
   "metadata": {},
   "outputs": [
    {
     "name": "stdout",
     "output_type": "stream",
     "text": [
      "(128210, 32)\n"
     ]
    }
   ],
   "source": [
    "print(dataset.x[0].shape)"
   ]
  },
  {
   "cell_type": "code",
   "execution_count": 8,
   "id": "faf77e73",
   "metadata": {
    "execution": {
     "iopub.execute_input": "2024-01-18T12:16:46.919474Z",
     "iopub.status.busy": "2024-01-18T12:16:46.919135Z",
     "iopub.status.idle": "2024-01-18T12:38:14.551532Z",
     "shell.execute_reply": "2024-01-18T12:38:14.550368Z"
    },
    "papermill": {
     "duration": 1287.648355,
     "end_time": "2024-01-18T12:38:14.553600",
     "exception": false,
     "start_time": "2024-01-18T12:16:46.905245",
     "status": "completed"
    },
    "tags": []
   },
   "outputs": [
    {
     "name": "stdout",
     "output_type": "stream",
     "text": [
      "[Epoch 25/10000] [Loss: 0.2096778278797865]\n"
     ]
    },
    {
     "name": "stderr",
     "output_type": "stream",
     "text": [
      "100%|██████████| 2/2 [00:00<00:00,  2.37it/s]\n"
     ]
    },
    {
     "name": "stdout",
     "output_type": "stream",
     "text": [
      "[Epoch 25/10000] [Score: 0.5457208031859336]\n",
      "[Epoch 50/10000] [Loss: 0.12650021098554134]\n"
     ]
    },
    {
     "name": "stderr",
     "output_type": "stream",
     "text": [
      "100%|██████████| 2/2 [00:00<00:00,  2.48it/s]\n"
     ]
    },
    {
     "name": "stdout",
     "output_type": "stream",
     "text": [
      "[Epoch 50/10000] [Score: 0.598761057185762]\n",
      "[Epoch 75/10000] [Loss: 0.12500339545309544]\n"
     ]
    },
    {
     "name": "stderr",
     "output_type": "stream",
     "text": [
      "100%|██████████| 2/2 [00:00<00:00,  2.34it/s]\n"
     ]
    },
    {
     "name": "stdout",
     "output_type": "stream",
     "text": [
      "[Epoch 75/10000] [Score: 0.6243104414962077]\n",
      "[Epoch 100/10000] [Loss: 0.12351937912404537]\n"
     ]
    },
    {
     "name": "stderr",
     "output_type": "stream",
     "text": [
      "100%|██████████| 2/2 [00:00<00:00,  2.43it/s]\n"
     ]
    },
    {
     "name": "stdout",
     "output_type": "stream",
     "text": [
      "[Epoch 100/10000] [Score: 0.6405668597654999]\n",
      "[Epoch 125/10000] [Loss: 0.12131107524037361]\n"
     ]
    },
    {
     "name": "stderr",
     "output_type": "stream",
     "text": [
      "100%|██████████| 2/2 [00:00<00:00,  2.30it/s]\n"
     ]
    },
    {
     "name": "stdout",
     "output_type": "stream",
     "text": [
      "[Epoch 125/10000] [Score: 0.6664363649200555]\n",
      "[Epoch 150/10000] [Loss: 0.11840400241315364]\n"
     ]
    },
    {
     "name": "stderr",
     "output_type": "stream",
     "text": [
      "100%|██████████| 2/2 [00:00<00:00,  2.36it/s]\n"
     ]
    },
    {
     "name": "stdout",
     "output_type": "stream",
     "text": [
      "[Epoch 150/10000] [Score: 0.6788998735614227]\n",
      "[Epoch 175/10000] [Loss: 0.11858946964144707]\n"
     ]
    },
    {
     "name": "stderr",
     "output_type": "stream",
     "text": [
      "100%|██████████| 2/2 [00:00<00:00,  2.34it/s]\n"
     ]
    },
    {
     "name": "stdout",
     "output_type": "stream",
     "text": [
      "[Epoch 175/10000] [Score: 0.6969049590116233]\n",
      "[Epoch 200/10000] [Loss: 0.11638994671404362]\n"
     ]
    },
    {
     "name": "stderr",
     "output_type": "stream",
     "text": [
      "100%|██████████| 2/2 [00:00<00:00,  2.36it/s]\n"
     ]
    },
    {
     "name": "stdout",
     "output_type": "stream",
     "text": [
      "[Epoch 200/10000] [Score: 0.7759482443372727]\n",
      "[Epoch 225/10000] [Loss: 0.11163699693977833]\n"
     ]
    },
    {
     "name": "stderr",
     "output_type": "stream",
     "text": [
      "100%|██████████| 2/2 [00:00<00:00,  2.35it/s]\n"
     ]
    },
    {
     "name": "stdout",
     "output_type": "stream",
     "text": [
      "[Epoch 225/10000] [Score: 0.8041508506630298]\n",
      "[Epoch 250/10000] [Loss: 0.10748584151268005]\n"
     ]
    },
    {
     "name": "stderr",
     "output_type": "stream",
     "text": [
      "100%|██████████| 2/2 [00:00<00:00,  2.37it/s]\n"
     ]
    },
    {
     "name": "stdout",
     "output_type": "stream",
     "text": [
      "[Epoch 250/10000] [Score: 0.863071282040797]\n",
      "[Epoch 275/10000] [Loss: 0.10232516124844551]\n"
     ]
    },
    {
     "name": "stderr",
     "output_type": "stream",
     "text": [
      "100%|██████████| 2/2 [00:00<00:00,  2.45it/s]\n"
     ]
    },
    {
     "name": "stdout",
     "output_type": "stream",
     "text": [
      "[Epoch 275/10000] [Score: 0.8954138794831343]\n",
      "[Epoch 300/10000] [Loss: 0.09768974035978317]\n"
     ]
    },
    {
     "name": "stderr",
     "output_type": "stream",
     "text": [
      "100%|██████████| 2/2 [00:00<00:00,  2.38it/s]\n"
     ]
    },
    {
     "name": "stdout",
     "output_type": "stream",
     "text": [
      "[Epoch 300/10000] [Score: 0.9043678400924314]\n",
      "[Epoch 325/10000] [Loss: 0.09333953015506267]\n"
     ]
    },
    {
     "name": "stderr",
     "output_type": "stream",
     "text": [
      "100%|██████████| 2/2 [00:00<00:00,  2.26it/s]\n"
     ]
    },
    {
     "name": "stdout",
     "output_type": "stream",
     "text": [
      "[Epoch 325/10000] [Score: 0.9046267155118967]\n",
      "[Epoch 350/10000] [Loss: 0.08972029648721218]\n"
     ]
    },
    {
     "name": "stderr",
     "output_type": "stream",
     "text": [
      "100%|██████████| 2/2 [00:00<00:00,  2.40it/s]\n"
     ]
    },
    {
     "name": "stdout",
     "output_type": "stream",
     "text": [
      "[Epoch 350/10000] [Score: 0.918714559733755]\n",
      "[Epoch 375/10000] [Loss: 0.08887949340045452]\n"
     ]
    },
    {
     "name": "stderr",
     "output_type": "stream",
     "text": [
      "100%|██████████| 2/2 [00:00<00:00,  2.38it/s]\n"
     ]
    },
    {
     "name": "stdout",
     "output_type": "stream",
     "text": [
      "[Epoch 375/10000] [Score: 0.9234575523202743]\n",
      "[Epoch 400/10000] [Loss: 0.08617338128387927]\n"
     ]
    },
    {
     "name": "stderr",
     "output_type": "stream",
     "text": [
      "100%|██████████| 2/2 [00:00<00:00,  2.31it/s]\n"
     ]
    },
    {
     "name": "stdout",
     "output_type": "stream",
     "text": [
      "[Epoch 400/10000] [Score: 0.9344416685089486]\n",
      "[Epoch 425/10000] [Loss: 0.08382158920168876]\n"
     ]
    },
    {
     "name": "stderr",
     "output_type": "stream",
     "text": [
      "100%|██████████| 2/2 [00:00<00:00,  2.22it/s]\n"
     ]
    },
    {
     "name": "stdout",
     "output_type": "stream",
     "text": [
      "[Epoch 425/10000] [Score: 0.9186077896458537]\n",
      "[Epoch 450/10000] [Loss: 0.08119124554097652]\n"
     ]
    },
    {
     "name": "stderr",
     "output_type": "stream",
     "text": [
      "100%|██████████| 2/2 [00:00<00:00,  2.38it/s]\n"
     ]
    },
    {
     "name": "stdout",
     "output_type": "stream",
     "text": [
      "[Epoch 450/10000] [Score: 0.9303093481537993]\n",
      "[Epoch 475/10000] [Loss: 0.07966537326574326]\n"
     ]
    },
    {
     "name": "stderr",
     "output_type": "stream",
     "text": [
      "100%|██████████| 2/2 [00:00<00:00,  2.34it/s]\n"
     ]
    },
    {
     "name": "stdout",
     "output_type": "stream",
     "text": [
      "[Epoch 475/10000] [Score: 0.932328404317361]\n",
      "[Epoch 500/10000] [Loss: 0.07884346581995487]\n"
     ]
    },
    {
     "name": "stderr",
     "output_type": "stream",
     "text": [
      "100%|██████████| 2/2 [00:00<00:00,  2.21it/s]\n"
     ]
    },
    {
     "name": "stdout",
     "output_type": "stream",
     "text": [
      "[Epoch 500/10000] [Score: 0.9398421694179498]\n",
      "[Epoch 525/10000] [Loss: 0.07541300993412733]\n"
     ]
    },
    {
     "name": "stderr",
     "output_type": "stream",
     "text": [
      "100%|██████████| 2/2 [00:00<00:00,  2.29it/s]\n"
     ]
    },
    {
     "name": "stdout",
     "output_type": "stream",
     "text": [
      "[Epoch 525/10000] [Score: 0.9457872965183639]\n",
      "[Epoch 550/10000] [Loss: 0.07364893898367882]\n"
     ]
    },
    {
     "name": "stderr",
     "output_type": "stream",
     "text": [
      "100%|██████████| 2/2 [00:00<00:00,  2.40it/s]\n"
     ]
    },
    {
     "name": "stdout",
     "output_type": "stream",
     "text": [
      "[Epoch 550/10000] [Score: 0.9539207552413455]\n",
      "[Epoch 575/10000] [Loss: 0.07210836615413427]\n"
     ]
    },
    {
     "name": "stderr",
     "output_type": "stream",
     "text": [
      "100%|██████████| 2/2 [00:00<00:00,  2.38it/s]\n"
     ]
    },
    {
     "name": "stdout",
     "output_type": "stream",
     "text": [
      "[Epoch 575/10000] [Score: 0.9513674081012803]\n",
      "[Epoch 600/10000] [Loss: 0.06977891467511654]\n"
     ]
    },
    {
     "name": "stderr",
     "output_type": "stream",
     "text": [
      "100%|██████████| 2/2 [00:00<00:00,  2.26it/s]\n"
     ]
    },
    {
     "name": "stdout",
     "output_type": "stream",
     "text": [
      "[Epoch 600/10000] [Score: 0.9593368860622107]\n",
      "[Epoch 625/10000] [Loss: 0.06754183981567621]\n"
     ]
    },
    {
     "name": "stderr",
     "output_type": "stream",
     "text": [
      "100%|██████████| 2/2 [00:00<00:00,  2.29it/s]\n"
     ]
    },
    {
     "name": "stdout",
     "output_type": "stream",
     "text": [
      "[Epoch 625/10000] [Score: 0.9515930355234019]\n",
      "[Epoch 650/10000] [Loss: 0.06622077748179436]\n"
     ]
    },
    {
     "name": "stderr",
     "output_type": "stream",
     "text": [
      "100%|██████████| 2/2 [00:00<00:00,  2.38it/s]\n"
     ]
    },
    {
     "name": "stdout",
     "output_type": "stream",
     "text": [
      "[Epoch 650/10000] [Score: 0.9497623448330063]\n",
      "[Epoch 675/10000] [Loss: 0.06512747615575791]\n"
     ]
    },
    {
     "name": "stderr",
     "output_type": "stream",
     "text": [
      "100%|██████████| 2/2 [00:00<00:00,  2.34it/s]\n"
     ]
    },
    {
     "name": "stdout",
     "output_type": "stream",
     "text": [
      "[Epoch 675/10000] [Score: 0.9576017025480356]\n",
      "[Epoch 700/10000] [Loss: 0.06371496506035328]\n"
     ]
    },
    {
     "name": "stderr",
     "output_type": "stream",
     "text": [
      "100%|██████████| 2/2 [00:00<00:00,  2.33it/s]\n"
     ]
    },
    {
     "name": "stdout",
     "output_type": "stream",
     "text": [
      "[Epoch 700/10000] [Score: 0.9598461469964734]\n",
      "[Epoch 725/10000] [Loss: 0.06304383613169193]\n"
     ]
    },
    {
     "name": "stderr",
     "output_type": "stream",
     "text": [
      "100%|██████████| 2/2 [00:00<00:00,  2.21it/s]\n"
     ]
    },
    {
     "name": "stdout",
     "output_type": "stream",
     "text": [
      "[Epoch 725/10000] [Score: 0.9618421488786361]\n",
      "[Epoch 750/10000] [Loss: 0.061802016012370585]\n"
     ]
    },
    {
     "name": "stderr",
     "output_type": "stream",
     "text": [
      "100%|██████████| 2/2 [00:00<00:00,  2.25it/s]\n"
     ]
    },
    {
     "name": "stdout",
     "output_type": "stream",
     "text": [
      "[Epoch 750/10000] [Score: 0.9711760493858813]\n",
      "[Epoch 775/10000] [Loss: 0.060102474614977835]\n"
     ]
    },
    {
     "name": "stderr",
     "output_type": "stream",
     "text": [
      "100%|██████████| 2/2 [00:00<00:00,  2.32it/s]\n"
     ]
    },
    {
     "name": "stdout",
     "output_type": "stream",
     "text": [
      "[Epoch 775/10000] [Score: 0.9681217162722372]\n",
      "[Epoch 800/10000] [Loss: 0.05819844391196966]\n"
     ]
    },
    {
     "name": "stderr",
     "output_type": "stream",
     "text": [
      "100%|██████████| 2/2 [00:00<00:00,  2.32it/s]\n"
     ]
    },
    {
     "name": "stdout",
     "output_type": "stream",
     "text": [
      "[Epoch 800/10000] [Score: 0.9610367260831872]\n",
      "[Epoch 825/10000] [Loss: 0.057805323153734205]\n"
     ]
    },
    {
     "name": "stderr",
     "output_type": "stream",
     "text": [
      "100%|██████████| 2/2 [00:00<00:00,  2.39it/s]\n"
     ]
    },
    {
     "name": "stdout",
     "output_type": "stream",
     "text": [
      "[Epoch 825/10000] [Score: 0.9698145194484803]\n",
      "[Epoch 850/10000] [Loss: 0.057765444926917556]\n"
     ]
    },
    {
     "name": "stderr",
     "output_type": "stream",
     "text": [
      "100%|██████████| 2/2 [00:00<00:00,  2.24it/s]\n"
     ]
    },
    {
     "name": "stdout",
     "output_type": "stream",
     "text": [
      "[Epoch 850/10000] [Score: 0.9571170329493187]\n",
      "[Epoch 875/10000] [Loss: 0.056371386945247653]\n"
     ]
    },
    {
     "name": "stderr",
     "output_type": "stream",
     "text": [
      "100%|██████████| 2/2 [00:00<00:00,  2.33it/s]\n"
     ]
    },
    {
     "name": "stdout",
     "output_type": "stream",
     "text": [
      "[Epoch 875/10000] [Score: 0.9693663462334067]\n",
      "[Epoch 900/10000] [Loss: 0.055060392133891585]\n"
     ]
    },
    {
     "name": "stderr",
     "output_type": "stream",
     "text": [
      "100%|██████████| 2/2 [00:00<00:00,  2.29it/s]\n"
     ]
    },
    {
     "name": "stdout",
     "output_type": "stream",
     "text": [
      "[Epoch 900/10000] [Score: 0.9694990013474216]\n",
      "[Epoch 925/10000] [Loss: 0.05462904285639524]\n"
     ]
    },
    {
     "name": "stderr",
     "output_type": "stream",
     "text": [
      "100%|██████████| 2/2 [00:00<00:00,  2.27it/s]\n"
     ]
    },
    {
     "name": "stdout",
     "output_type": "stream",
     "text": [
      "[Epoch 925/10000] [Score: 0.9658423932272499]\n",
      "[Epoch 950/10000] [Loss: 0.053762968108057974]\n"
     ]
    },
    {
     "name": "stderr",
     "output_type": "stream",
     "text": [
      "100%|██████████| 2/2 [00:00<00:00,  2.40it/s]\n"
     ]
    },
    {
     "name": "stdout",
     "output_type": "stream",
     "text": [
      "[Epoch 950/10000] [Score: 0.9682105859755704]\n",
      "[Epoch 975/10000] [Loss: 0.052862066887319085]\n"
     ]
    },
    {
     "name": "stderr",
     "output_type": "stream",
     "text": [
      "100%|██████████| 2/2 [00:00<00:00,  2.33it/s]\n"
     ]
    },
    {
     "name": "stdout",
     "output_type": "stream",
     "text": [
      "[Epoch 975/10000] [Score: 0.9700873055274423]\n",
      "[Epoch 1000/10000] [Loss: 0.05237768236547709]\n"
     ]
    },
    {
     "name": "stderr",
     "output_type": "stream",
     "text": [
      "100%|██████████| 2/2 [00:00<00:00,  2.25it/s]\n"
     ]
    },
    {
     "name": "stdout",
     "output_type": "stream",
     "text": [
      "[Epoch 1000/10000] [Score: 0.967950977204104]\n",
      "[Epoch 1025/10000] [Loss: 0.05112602412700653]\n"
     ]
    },
    {
     "name": "stderr",
     "output_type": "stream",
     "text": [
      "100%|██████████| 2/2 [00:00<00:00,  2.32it/s]\n"
     ]
    },
    {
     "name": "stdout",
     "output_type": "stream",
     "text": [
      "[Epoch 1025/10000] [Score: 0.9681932071271712]\n",
      "[Epoch 1050/10000] [Loss: 0.05143137406557798]\n"
     ]
    },
    {
     "name": "stderr",
     "output_type": "stream",
     "text": [
      "100%|██████████| 2/2 [00:00<00:00,  2.35it/s]\n"
     ]
    },
    {
     "name": "stdout",
     "output_type": "stream",
     "text": [
      "[Epoch 1050/10000] [Score: 0.9665124956232493]\n",
      "[Epoch 1075/10000] [Loss: 0.050494387038052084]\n"
     ]
    },
    {
     "name": "stderr",
     "output_type": "stream",
     "text": [
      "100%|██████████| 2/2 [00:00<00:00,  2.35it/s]\n"
     ]
    },
    {
     "name": "stdout",
     "output_type": "stream",
     "text": [
      "[Epoch 1075/10000] [Score: 0.9639481553912624]\n",
      "[Epoch 1100/10000] [Loss: 0.04946706749498844]\n"
     ]
    },
    {
     "name": "stderr",
     "output_type": "stream",
     "text": [
      "100%|██████████| 2/2 [00:00<00:00,  2.35it/s]\n"
     ]
    },
    {
     "name": "stdout",
     "output_type": "stream",
     "text": [
      "[Epoch 1100/10000] [Score: 0.9694771218202534]\n",
      "[Epoch 1125/10000] [Loss: 0.04849223144352436]\n"
     ]
    },
    {
     "name": "stderr",
     "output_type": "stream",
     "text": [
      "100%|██████████| 2/2 [00:00<00:00,  2.31it/s]\n"
     ]
    },
    {
     "name": "stdout",
     "output_type": "stream",
     "text": [
      "[Epoch 1125/10000] [Score: 0.9722698502682704]\n",
      "[Epoch 1150/10000] [Loss: 0.04664831817150116]\n"
     ]
    },
    {
     "name": "stderr",
     "output_type": "stream",
     "text": [
      "100%|██████████| 2/2 [00:00<00:00,  2.39it/s]\n"
     ]
    },
    {
     "name": "stdout",
     "output_type": "stream",
     "text": [
      "[Epoch 1150/10000] [Score: 0.9695533837061664]\n",
      "[Epoch 1175/10000] [Loss: 0.04800628915429115]\n"
     ]
    },
    {
     "name": "stderr",
     "output_type": "stream",
     "text": [
      "100%|██████████| 2/2 [00:00<00:00,  2.36it/s]\n"
     ]
    },
    {
     "name": "stdout",
     "output_type": "stream",
     "text": [
      "[Epoch 1175/10000] [Score: 0.9659860151766759]\n",
      "[Epoch 1200/10000] [Loss: 0.04696183819323778]\n"
     ]
    },
    {
     "name": "stderr",
     "output_type": "stream",
     "text": [
      "100%|██████████| 2/2 [00:00<00:00,  2.38it/s]\n"
     ]
    },
    {
     "name": "stdout",
     "output_type": "stream",
     "text": [
      "[Epoch 1200/10000] [Score: 0.9624244971235908]\n",
      "[Epoch 1225/10000] [Loss: 0.045934470780193803]\n"
     ]
    },
    {
     "name": "stderr",
     "output_type": "stream",
     "text": [
      "100%|██████████| 2/2 [00:00<00:00,  2.36it/s]\n"
     ]
    },
    {
     "name": "stdout",
     "output_type": "stream",
     "text": [
      "[Epoch 1225/10000] [Score: 0.9678100624706619]\n",
      "[Epoch 1250/10000] [Loss: 0.04588223744183779]\n"
     ]
    },
    {
     "name": "stderr",
     "output_type": "stream",
     "text": [
      "100%|██████████| 2/2 [00:00<00:00,  2.28it/s]\n"
     ]
    },
    {
     "name": "stdout",
     "output_type": "stream",
     "text": [
      "[Epoch 1250/10000] [Score: 0.9719605973567194]\n",
      "[Epoch 1275/10000] [Loss: 0.0452931023016572]\n"
     ]
    },
    {
     "name": "stderr",
     "output_type": "stream",
     "text": [
      "100%|██████████| 2/2 [00:00<00:00,  2.34it/s]\n"
     ]
    },
    {
     "name": "stdout",
     "output_type": "stream",
     "text": [
      "[Epoch 1275/10000] [Score: 0.971019446769926]\n",
      "[Epoch 1300/10000] [Loss: 0.04352065566927195]\n"
     ]
    },
    {
     "name": "stderr",
     "output_type": "stream",
     "text": [
      "100%|██████████| 2/2 [00:00<00:00,  2.30it/s]\n"
     ]
    },
    {
     "name": "stdout",
     "output_type": "stream",
     "text": [
      "[Epoch 1300/10000] [Score: 0.9700245291052857]\n",
      "[Epoch 1325/10000] [Loss: 0.04342413794249296]\n"
     ]
    },
    {
     "name": "stderr",
     "output_type": "stream",
     "text": [
      "100%|██████████| 2/2 [00:00<00:00,  2.32it/s]\n"
     ]
    },
    {
     "name": "stdout",
     "output_type": "stream",
     "text": [
      "[Epoch 1325/10000] [Score: 0.9673598878372441]\n",
      "[Epoch 1350/10000] [Loss: 0.043334215395152566]\n"
     ]
    },
    {
     "name": "stderr",
     "output_type": "stream",
     "text": [
      "100%|██████████| 2/2 [00:00<00:00,  2.34it/s]\n"
     ]
    },
    {
     "name": "stdout",
     "output_type": "stream",
     "text": [
      "[Epoch 1350/10000] [Score: 0.9745766720332445]\n",
      "[Epoch 1375/10000] [Loss: 0.04216488678008318]\n"
     ]
    },
    {
     "name": "stderr",
     "output_type": "stream",
     "text": [
      "100%|██████████| 2/2 [00:00<00:00,  2.30it/s]\n"
     ]
    },
    {
     "name": "stdout",
     "output_type": "stream",
     "text": [
      "[Epoch 1375/10000] [Score: 0.9758090892892285]\n",
      "[Epoch 1400/10000] [Loss: 0.041660050228238106]\n"
     ]
    },
    {
     "name": "stderr",
     "output_type": "stream",
     "text": [
      "100%|██████████| 2/2 [00:00<00:00,  2.20it/s]\n"
     ]
    },
    {
     "name": "stdout",
     "output_type": "stream",
     "text": [
      "[Epoch 1400/10000] [Score: 0.9706929829651219]\n",
      "[Epoch 1425/10000] [Loss: 0.041035073045641184]\n"
     ]
    },
    {
     "name": "stderr",
     "output_type": "stream",
     "text": [
      "100%|██████████| 2/2 [00:00<00:00,  2.33it/s]\n"
     ]
    },
    {
     "name": "stdout",
     "output_type": "stream",
     "text": [
      "[Epoch 1425/10000] [Score: 0.9716269717474885]\n",
      "[Epoch 1450/10000] [Loss: 0.040783898942172526]\n"
     ]
    },
    {
     "name": "stderr",
     "output_type": "stream",
     "text": [
      "100%|██████████| 2/2 [00:00<00:00,  2.37it/s]\n"
     ]
    },
    {
     "name": "stdout",
     "output_type": "stream",
     "text": [
      "[Epoch 1450/10000] [Score: 0.9763319283005173]\n",
      "[Epoch 1475/10000] [Loss: 0.041597155332565305]\n"
     ]
    },
    {
     "name": "stderr",
     "output_type": "stream",
     "text": [
      "100%|██████████| 2/2 [00:00<00:00,  2.31it/s]\n"
     ]
    },
    {
     "name": "stdout",
     "output_type": "stream",
     "text": [
      "[Epoch 1475/10000] [Score: 0.9726257710828401]\n",
      "[Epoch 1500/10000] [Loss: 0.0402800577506423]\n"
     ]
    },
    {
     "name": "stderr",
     "output_type": "stream",
     "text": [
      "100%|██████████| 2/2 [00:00<00:00,  2.25it/s]\n"
     ]
    },
    {
     "name": "stdout",
     "output_type": "stream",
     "text": [
      "[Epoch 1500/10000] [Score: 0.9690330098451333]\n",
      "[Epoch 1525/10000] [Loss: 0.040448651146143676]\n"
     ]
    },
    {
     "name": "stderr",
     "output_type": "stream",
     "text": [
      "100%|██████████| 2/2 [00:00<00:00,  2.22it/s]\n"
     ]
    },
    {
     "name": "stdout",
     "output_type": "stream",
     "text": [
      "[Epoch 1525/10000] [Score: 0.9755859182651925]\n",
      "[Epoch 1550/10000] [Loss: 0.0395276221819222]\n"
     ]
    },
    {
     "name": "stderr",
     "output_type": "stream",
     "text": [
      "100%|██████████| 2/2 [00:00<00:00,  2.33it/s]\n"
     ]
    },
    {
     "name": "stdout",
     "output_type": "stream",
     "text": [
      "[Epoch 1550/10000] [Score: 0.9723802386963758]\n",
      "[Epoch 1575/10000] [Loss: 0.03928810246288776]\n"
     ]
    },
    {
     "name": "stderr",
     "output_type": "stream",
     "text": [
      "100%|██████████| 2/2 [00:00<00:00,  2.34it/s]\n"
     ]
    },
    {
     "name": "stdout",
     "output_type": "stream",
     "text": [
      "[Epoch 1575/10000] [Score: 0.9759234066763871]\n",
      "[Epoch 1600/10000] [Loss: 0.039941393844783304]\n"
     ]
    },
    {
     "name": "stderr",
     "output_type": "stream",
     "text": [
      "100%|██████████| 2/2 [00:00<00:00,  2.30it/s]\n"
     ]
    },
    {
     "name": "stdout",
     "output_type": "stream",
     "text": [
      "[Epoch 1600/10000] [Score: 0.9738793074255249]\n",
      "[Epoch 1625/10000] [Loss: 0.037749380692839625]\n"
     ]
    },
    {
     "name": "stderr",
     "output_type": "stream",
     "text": [
      "100%|██████████| 2/2 [00:00<00:00,  2.37it/s]\n"
     ]
    },
    {
     "name": "stdout",
     "output_type": "stream",
     "text": [
      "[Epoch 1625/10000] [Score: 0.9709290719928102]\n",
      "[Epoch 1650/10000] [Loss: 0.03747369538992643]\n"
     ]
    },
    {
     "name": "stderr",
     "output_type": "stream",
     "text": [
      "100%|██████████| 2/2 [00:00<00:00,  2.37it/s]\n"
     ]
    },
    {
     "name": "stdout",
     "output_type": "stream",
     "text": [
      "[Epoch 1650/10000] [Score: 0.97617706170915]\n",
      "[Epoch 1675/10000] [Loss: 0.03703679550439119]\n"
     ]
    },
    {
     "name": "stderr",
     "output_type": "stream",
     "text": [
      "100%|██████████| 2/2 [00:00<00:00,  2.31it/s]\n"
     ]
    },
    {
     "name": "stdout",
     "output_type": "stream",
     "text": [
      "[Epoch 1675/10000] [Score: 0.9782861650923675]\n",
      "[Epoch 1700/10000] [Loss: 0.035962729044258596]\n"
     ]
    },
    {
     "name": "stderr",
     "output_type": "stream",
     "text": [
      "100%|██████████| 2/2 [00:00<00:00,  2.28it/s]\n"
     ]
    },
    {
     "name": "stdout",
     "output_type": "stream",
     "text": [
      "[Epoch 1700/10000] [Score: 0.9742175780744171]\n",
      "[Epoch 1725/10000] [Loss: 0.037562859915196894]\n"
     ]
    },
    {
     "name": "stderr",
     "output_type": "stream",
     "text": [
      "100%|██████████| 2/2 [00:00<00:00,  2.10it/s]\n"
     ]
    },
    {
     "name": "stdout",
     "output_type": "stream",
     "text": [
      "[Epoch 1725/10000] [Score: 0.9728387013022589]\n",
      "[Epoch 1750/10000] [Loss: 0.03613037368282676]\n"
     ]
    },
    {
     "name": "stderr",
     "output_type": "stream",
     "text": [
      "100%|██████████| 2/2 [00:00<00:00,  2.16it/s]\n"
     ]
    },
    {
     "name": "stdout",
     "output_type": "stream",
     "text": [
      "[Epoch 1750/10000] [Score: 0.9760031618429762]\n",
      "[Epoch 1775/10000] [Loss: 0.036283015254884955]\n"
     ]
    },
    {
     "name": "stderr",
     "output_type": "stream",
     "text": [
      "100%|██████████| 2/2 [00:00<00:00,  2.30it/s]\n"
     ]
    },
    {
     "name": "stdout",
     "output_type": "stream",
     "text": [
      "[Epoch 1775/10000] [Score: 0.9733771466644368]\n",
      "[Epoch 1800/10000] [Loss: 0.03549361556768418]\n"
     ]
    },
    {
     "name": "stderr",
     "output_type": "stream",
     "text": [
      "100%|██████████| 2/2 [00:00<00:00,  2.40it/s]\n"
     ]
    },
    {
     "name": "stdout",
     "output_type": "stream",
     "text": [
      "[Epoch 1800/10000] [Score: 0.9717125031135097]\n",
      "[Epoch 1825/10000] [Loss: 0.03511160111054778]\n"
     ]
    },
    {
     "name": "stderr",
     "output_type": "stream",
     "text": [
      "100%|██████████| 2/2 [00:00<00:00,  2.31it/s]\n"
     ]
    },
    {
     "name": "stdout",
     "output_type": "stream",
     "text": [
      "[Epoch 1825/10000] [Score: 0.9751234126225384]\n",
      "[Epoch 1850/10000] [Loss: 0.03611972222104669]\n"
     ]
    },
    {
     "name": "stderr",
     "output_type": "stream",
     "text": [
      "100%|██████████| 2/2 [00:00<00:00,  2.36it/s]\n"
     ]
    },
    {
     "name": "stdout",
     "output_type": "stream",
     "text": [
      "[Epoch 1850/10000] [Score: 0.9771920860706662]\n",
      "[Epoch 1875/10000] [Loss: 0.03443290509283543]\n"
     ]
    },
    {
     "name": "stderr",
     "output_type": "stream",
     "text": [
      "100%|██████████| 2/2 [00:00<00:00,  2.32it/s]\n"
     ]
    },
    {
     "name": "stdout",
     "output_type": "stream",
     "text": [
      "[Epoch 1875/10000] [Score: 0.9715801997834945]\n",
      "[Epoch 1900/10000] [Loss: 0.033754271566867826]\n"
     ]
    },
    {
     "name": "stderr",
     "output_type": "stream",
     "text": [
      "100%|██████████| 2/2 [00:00<00:00,  2.36it/s]\n"
     ]
    },
    {
     "name": "stdout",
     "output_type": "stream",
     "text": [
      "[Epoch 1900/10000] [Score: 0.9771789925909918]\n",
      "[Epoch 1925/10000] [Loss: 0.03315814483910799]\n"
     ]
    },
    {
     "name": "stderr",
     "output_type": "stream",
     "text": [
      "100%|██████████| 2/2 [00:00<00:00,  2.30it/s]\n"
     ]
    },
    {
     "name": "stdout",
     "output_type": "stream",
     "text": [
      "[Epoch 1925/10000] [Score: 0.9751174925613874]\n",
      "[Epoch 1950/10000] [Loss: 0.03377680841833353]\n"
     ]
    },
    {
     "name": "stderr",
     "output_type": "stream",
     "text": [
      "100%|██████████| 2/2 [00:00<00:00,  2.28it/s]\n"
     ]
    },
    {
     "name": "stdout",
     "output_type": "stream",
     "text": [
      "[Epoch 1950/10000] [Score: 0.9768354380605647]\n",
      "[Epoch 1975/10000] [Loss: 0.033745303936302665]\n"
     ]
    },
    {
     "name": "stderr",
     "output_type": "stream",
     "text": [
      "100%|██████████| 2/2 [00:00<00:00,  2.30it/s]\n"
     ]
    },
    {
     "name": "stdout",
     "output_type": "stream",
     "text": [
      "[Epoch 1975/10000] [Score: 0.9730195508575238]\n",
      "[Epoch 2000/10000] [Loss: 0.03258071575313806]\n"
     ]
    },
    {
     "name": "stderr",
     "output_type": "stream",
     "text": [
      "100%|██████████| 2/2 [00:00<00:00,  2.34it/s]\n"
     ]
    },
    {
     "name": "stdout",
     "output_type": "stream",
     "text": [
      "[Epoch 2000/10000] [Score: 0.9783009780573574]\n",
      "[Epoch 2025/10000] [Loss: 0.03201354440301657]\n"
     ]
    },
    {
     "name": "stderr",
     "output_type": "stream",
     "text": [
      "100%|██████████| 2/2 [00:00<00:00,  2.28it/s]\n"
     ]
    },
    {
     "name": "stdout",
     "output_type": "stream",
     "text": [
      "[Epoch 2025/10000] [Score: 0.9784849100071903]\n",
      "[Epoch 2050/10000] [Loss: 0.03114925552159548]\n"
     ]
    },
    {
     "name": "stderr",
     "output_type": "stream",
     "text": [
      "100%|██████████| 2/2 [00:00<00:00,  2.23it/s]\n"
     ]
    },
    {
     "name": "stdout",
     "output_type": "stream",
     "text": [
      "[Epoch 2050/10000] [Score: 0.9772769631537227]\n",
      "[Epoch 2075/10000] [Loss: 0.032774336878210304]\n"
     ]
    },
    {
     "name": "stderr",
     "output_type": "stream",
     "text": [
      "100%|██████████| 2/2 [00:00<00:00,  2.38it/s]\n"
     ]
    },
    {
     "name": "stdout",
     "output_type": "stream",
     "text": [
      "[Epoch 2075/10000] [Score: 0.980403903040649]\n",
      "[Epoch 2100/10000] [Loss: 0.031077209543436766]\n"
     ]
    },
    {
     "name": "stderr",
     "output_type": "stream",
     "text": [
      "100%|██████████| 2/2 [00:00<00:00,  2.36it/s]\n"
     ]
    },
    {
     "name": "stdout",
     "output_type": "stream",
     "text": [
      "[Epoch 2100/10000] [Score: 0.973132445368088]\n",
      "[Epoch 2125/10000] [Loss: 0.031052530501037835]\n"
     ]
    },
    {
     "name": "stderr",
     "output_type": "stream",
     "text": [
      "100%|██████████| 2/2 [00:00<00:00,  2.31it/s]\n"
     ]
    },
    {
     "name": "stdout",
     "output_type": "stream",
     "text": [
      "[Epoch 2125/10000] [Score: 0.9736402408961987]\n",
      "[Epoch 2150/10000] [Loss: 0.03055063573643565]\n"
     ]
    },
    {
     "name": "stderr",
     "output_type": "stream",
     "text": [
      "100%|██████████| 2/2 [00:00<00:00,  2.26it/s]\n"
     ]
    },
    {
     "name": "stdout",
     "output_type": "stream",
     "text": [
      "[Epoch 2150/10000] [Score: 0.9733968706618521]\n",
      "[Epoch 2175/10000] [Loss: 0.031242207735776902]\n"
     ]
    },
    {
     "name": "stderr",
     "output_type": "stream",
     "text": [
      "100%|██████████| 2/2 [00:00<00:00,  2.34it/s]\n"
     ]
    },
    {
     "name": "stdout",
     "output_type": "stream",
     "text": [
      "[Epoch 2175/10000] [Score: 0.9753196477277423]\n",
      "[Epoch 2200/10000] [Loss: 0.029621758591383697]\n"
     ]
    },
    {
     "name": "stderr",
     "output_type": "stream",
     "text": [
      "100%|██████████| 2/2 [00:00<00:00,  2.29it/s]\n"
     ]
    },
    {
     "name": "stdout",
     "output_type": "stream",
     "text": [
      "[Epoch 2200/10000] [Score: 0.9729027296175464]\n",
      "[Epoch 2225/10000] [Loss: 0.030042947828769685]\n"
     ]
    },
    {
     "name": "stderr",
     "output_type": "stream",
     "text": [
      "100%|██████████| 2/2 [00:00<00:00,  2.24it/s]\n"
     ]
    },
    {
     "name": "stdout",
     "output_type": "stream",
     "text": [
      "[Epoch 2225/10000] [Score: 0.9708744201803668]\n",
      "[Epoch 2250/10000] [Loss: 0.030072461552917956]\n"
     ]
    },
    {
     "name": "stderr",
     "output_type": "stream",
     "text": [
      "100%|██████████| 2/2 [00:00<00:00,  2.27it/s]\n"
     ]
    },
    {
     "name": "stdout",
     "output_type": "stream",
     "text": [
      "[Epoch 2250/10000] [Score: 0.9777637311767773]\n",
      "[Epoch 2275/10000] [Loss: 0.029669422153383494]\n"
     ]
    },
    {
     "name": "stderr",
     "output_type": "stream",
     "text": [
      "100%|██████████| 2/2 [00:00<00:00,  2.35it/s]\n"
     ]
    },
    {
     "name": "stdout",
     "output_type": "stream",
     "text": [
      "[Epoch 2275/10000] [Score: 0.9791977198992431]\n",
      "[Epoch 2300/10000] [Loss: 0.029671323765069247]\n"
     ]
    },
    {
     "name": "stderr",
     "output_type": "stream",
     "text": [
      "100%|██████████| 2/2 [00:00<00:00,  2.38it/s]\n"
     ]
    },
    {
     "name": "stdout",
     "output_type": "stream",
     "text": [
      "[Epoch 2300/10000] [Score: 0.9754478009649724]\n",
      "[Epoch 2325/10000] [Loss: 0.028758232370018958]\n"
     ]
    },
    {
     "name": "stderr",
     "output_type": "stream",
     "text": [
      "100%|██████████| 2/2 [00:00<00:00,  2.30it/s]\n"
     ]
    },
    {
     "name": "stdout",
     "output_type": "stream",
     "text": [
      "[Epoch 2325/10000] [Score: 0.9771010604715199]\n",
      "[Epoch 2350/10000] [Loss: 0.028974232096225024]\n"
     ]
    },
    {
     "name": "stderr",
     "output_type": "stream",
     "text": [
      "100%|██████████| 2/2 [00:00<00:00,  2.36it/s]\n"
     ]
    },
    {
     "name": "stdout",
     "output_type": "stream",
     "text": [
      "[Epoch 2350/10000] [Score: 0.9779917872762319]\n",
      "[Epoch 2375/10000] [Loss: 0.027808600272983312]\n"
     ]
    },
    {
     "name": "stderr",
     "output_type": "stream",
     "text": [
      "100%|██████████| 2/2 [00:00<00:00,  2.29it/s]\n"
     ]
    },
    {
     "name": "stdout",
     "output_type": "stream",
     "text": [
      "[Epoch 2375/10000] [Score: 0.9740360270476803]\n",
      "[Epoch 2400/10000] [Loss: 0.027880386039614676]\n"
     ]
    },
    {
     "name": "stderr",
     "output_type": "stream",
     "text": [
      "100%|██████████| 2/2 [00:00<00:00,  2.37it/s]\n"
     ]
    },
    {
     "name": "stdout",
     "output_type": "stream",
     "text": [
      "[Epoch 2400/10000] [Score: 0.9748943174441308]\n",
      "[Epoch 2425/10000] [Loss: 0.027516502793878315]\n"
     ]
    },
    {
     "name": "stderr",
     "output_type": "stream",
     "text": [
      "100%|██████████| 2/2 [00:00<00:00,  2.34it/s]\n"
     ]
    },
    {
     "name": "stdout",
     "output_type": "stream",
     "text": [
      "[Epoch 2425/10000] [Score: 0.9751996075859632]\n",
      "[Epoch 2450/10000] [Loss: 0.028308760337531567]\n"
     ]
    },
    {
     "name": "stderr",
     "output_type": "stream",
     "text": [
      "100%|██████████| 2/2 [00:00<00:00,  2.32it/s]\n"
     ]
    },
    {
     "name": "stdout",
     "output_type": "stream",
     "text": [
      "[Epoch 2450/10000] [Score: 0.9731797895842492]\n",
      "[Epoch 2475/10000] [Loss: 0.026653498243540526]\n"
     ]
    },
    {
     "name": "stderr",
     "output_type": "stream",
     "text": [
      "100%|██████████| 2/2 [00:00<00:00,  2.41it/s]\n"
     ]
    },
    {
     "name": "stdout",
     "output_type": "stream",
     "text": [
      "[Epoch 2475/10000] [Score: 0.9755220291193956]\n",
      "[Epoch 2500/10000] [Loss: 0.026779185477644206]\n"
     ]
    },
    {
     "name": "stderr",
     "output_type": "stream",
     "text": [
      "100%|██████████| 2/2 [00:00<00:00,  2.33it/s]\n"
     ]
    },
    {
     "name": "stdout",
     "output_type": "stream",
     "text": [
      "[Epoch 2500/10000] [Score: 0.9764808974266409]\n",
      "[Epoch 2525/10000] [Loss: 0.026532425116747617]\n"
     ]
    },
    {
     "name": "stderr",
     "output_type": "stream",
     "text": [
      "100%|██████████| 2/2 [00:00<00:00,  2.34it/s]\n"
     ]
    },
    {
     "name": "stdout",
     "output_type": "stream",
     "text": [
      "[Epoch 2525/10000] [Score: 0.9725116952955147]\n",
      "[Epoch 2550/10000] [Loss: 0.02641855550929904]\n"
     ]
    },
    {
     "name": "stderr",
     "output_type": "stream",
     "text": [
      "100%|██████████| 2/2 [00:00<00:00,  2.41it/s]\n"
     ]
    },
    {
     "name": "stdout",
     "output_type": "stream",
     "text": [
      "[Epoch 2550/10000] [Score: 0.9710529302106337]\n",
      "[Epoch 2575/10000] [Loss: 0.02598220931366086]\n"
     ]
    },
    {
     "name": "stderr",
     "output_type": "stream",
     "text": [
      "100%|██████████| 2/2 [00:00<00:00,  2.40it/s]\n"
     ]
    },
    {
     "name": "stdout",
     "output_type": "stream",
     "text": [
      "[Epoch 2575/10000] [Score: 0.9791221581203954]\n",
      "[Epoch 2600/10000] [Loss: 0.02557013899087906]\n"
     ]
    },
    {
     "name": "stderr",
     "output_type": "stream",
     "text": [
      "100%|██████████| 2/2 [00:00<00:00,  2.26it/s]\n"
     ]
    },
    {
     "name": "stdout",
     "output_type": "stream",
     "text": [
      "[Epoch 2600/10000] [Score: 0.9734608949837539]\n",
      "[Epoch 2625/10000] [Loss: 0.025758164767175913]\n"
     ]
    },
    {
     "name": "stderr",
     "output_type": "stream",
     "text": [
      "100%|██████████| 2/2 [00:00<00:00,  2.39it/s]\n"
     ]
    },
    {
     "name": "stdout",
     "output_type": "stream",
     "text": [
      "[Epoch 2625/10000] [Score: 0.972301844508903]\n",
      "[Epoch 2650/10000] [Loss: 0.02518363665789366]\n"
     ]
    },
    {
     "name": "stderr",
     "output_type": "stream",
     "text": [
      "100%|██████████| 2/2 [00:00<00:00,  2.34it/s]\n"
     ]
    },
    {
     "name": "stdout",
     "output_type": "stream",
     "text": [
      "[Epoch 2650/10000] [Score: 0.9725161668891248]\n",
      "[Epoch 2675/10000] [Loss: 0.025251027215272188]\n"
     ]
    },
    {
     "name": "stderr",
     "output_type": "stream",
     "text": [
      "100%|██████████| 2/2 [00:00<00:00,  2.35it/s]\n"
     ]
    },
    {
     "name": "stdout",
     "output_type": "stream",
     "text": [
      "[Epoch 2675/10000] [Score: 0.9694110880599579]\n",
      "[Epoch 2700/10000] [Loss: 0.0249800880625844]\n"
     ]
    },
    {
     "name": "stderr",
     "output_type": "stream",
     "text": [
      "100%|██████████| 2/2 [00:00<00:00,  2.28it/s]\n"
     ]
    },
    {
     "name": "stdout",
     "output_type": "stream",
     "text": [
      "[Epoch 2700/10000] [Score: 0.9717118064341003]\n",
      "[Epoch 2725/10000] [Loss: 0.02431625360623002]\n"
     ]
    },
    {
     "name": "stderr",
     "output_type": "stream",
     "text": [
      "100%|██████████| 2/2 [00:00<00:00,  2.32it/s]\n"
     ]
    },
    {
     "name": "stdout",
     "output_type": "stream",
     "text": [
      "[Epoch 2725/10000] [Score: 0.9711902684345866]\n",
      "[Epoch 2750/10000] [Loss: 0.02354535659775138]\n"
     ]
    },
    {
     "name": "stderr",
     "output_type": "stream",
     "text": [
      "100%|██████████| 2/2 [00:00<00:00,  2.29it/s]\n"
     ]
    },
    {
     "name": "stdout",
     "output_type": "stream",
     "text": [
      "[Epoch 2750/10000] [Score: 0.971464917294853]\n",
      "[Epoch 2775/10000] [Loss: 0.02410137642174959]\n"
     ]
    },
    {
     "name": "stderr",
     "output_type": "stream",
     "text": [
      "100%|██████████| 2/2 [00:00<00:00,  2.40it/s]\n"
     ]
    },
    {
     "name": "stdout",
     "output_type": "stream",
     "text": [
      "[Epoch 2775/10000] [Score: 0.9682909194176834]\n",
      "[Epoch 2800/10000] [Loss: 0.024016226883977653]\n"
     ]
    },
    {
     "name": "stderr",
     "output_type": "stream",
     "text": [
      "100%|██████████| 2/2 [00:00<00:00,  2.41it/s]\n"
     ]
    },
    {
     "name": "stdout",
     "output_type": "stream",
     "text": [
      "[Epoch 2800/10000] [Score: 0.9755135380832686]\n",
      "[Epoch 2825/10000] [Loss: 0.023464695643633605]\n"
     ]
    },
    {
     "name": "stderr",
     "output_type": "stream",
     "text": [
      "100%|██████████| 2/2 [00:00<00:00,  2.32it/s]\n"
     ]
    },
    {
     "name": "stdout",
     "output_type": "stream",
     "text": [
      "[Epoch 2825/10000] [Score: 0.9786532350736827]\n",
      "[Epoch 2850/10000] [Loss: 0.023694661762565374]\n"
     ]
    },
    {
     "name": "stderr",
     "output_type": "stream",
     "text": [
      "100%|██████████| 2/2 [00:00<00:00,  2.37it/s]\n"
     ]
    },
    {
     "name": "stdout",
     "output_type": "stream",
     "text": [
      "[Epoch 2850/10000] [Score: 0.9708959137135316]\n",
      "[Epoch 2875/10000] [Loss: 0.023406381960958244]\n"
     ]
    },
    {
     "name": "stderr",
     "output_type": "stream",
     "text": [
      "100%|██████████| 2/2 [00:00<00:00,  2.38it/s]\n"
     ]
    },
    {
     "name": "stdout",
     "output_type": "stream",
     "text": [
      "[Epoch 2875/10000] [Score: 0.9737895216727964]\n",
      "[Epoch 2900/10000] [Loss: 0.024465416762977837]\n"
     ]
    },
    {
     "name": "stderr",
     "output_type": "stream",
     "text": [
      "100%|██████████| 2/2 [00:00<00:00,  2.48it/s]\n"
     ]
    },
    {
     "name": "stdout",
     "output_type": "stream",
     "text": [
      "[Epoch 2900/10000] [Score: 0.9722394901543342]\n",
      "[Epoch 2925/10000] [Loss: 0.02350986123085022]\n"
     ]
    },
    {
     "name": "stderr",
     "output_type": "stream",
     "text": [
      "100%|██████████| 2/2 [00:00<00:00,  2.43it/s]\n"
     ]
    },
    {
     "name": "stdout",
     "output_type": "stream",
     "text": [
      "[Epoch 2925/10000] [Score: 0.9771668138295845]\n",
      "[Epoch 2950/10000] [Loss: 0.02184488474391401]\n"
     ]
    },
    {
     "name": "stderr",
     "output_type": "stream",
     "text": [
      "100%|██████████| 2/2 [00:00<00:00,  2.19it/s]\n"
     ]
    },
    {
     "name": "stdout",
     "output_type": "stream",
     "text": [
      "[Epoch 2950/10000] [Score: 0.9790362971003868]\n",
      "[Epoch 2975/10000] [Loss: 0.02200843660160899]\n"
     ]
    },
    {
     "name": "stderr",
     "output_type": "stream",
     "text": [
      "100%|██████████| 2/2 [00:00<00:00,  2.27it/s]\n"
     ]
    },
    {
     "name": "stdout",
     "output_type": "stream",
     "text": [
      "[Epoch 2975/10000] [Score: 0.964932589686384]\n",
      "[Epoch 3000/10000] [Loss: 0.021988614164292812]\n"
     ]
    },
    {
     "name": "stderr",
     "output_type": "stream",
     "text": [
      "100%|██████████| 2/2 [00:00<00:00,  2.49it/s]\n"
     ]
    },
    {
     "name": "stdout",
     "output_type": "stream",
     "text": [
      "[Epoch 3000/10000] [Score: 0.977240235120432]\n",
      "[Epoch 3025/10000] [Loss: 0.02242093989625573]\n"
     ]
    },
    {
     "name": "stderr",
     "output_type": "stream",
     "text": [
      "100%|██████████| 2/2 [00:00<00:00,  2.39it/s]\n"
     ]
    },
    {
     "name": "stdout",
     "output_type": "stream",
     "text": [
      "[Epoch 3025/10000] [Score: 0.9719117706626826]\n",
      "[Epoch 3050/10000] [Loss: 0.021956207659095527]\n"
     ]
    },
    {
     "name": "stderr",
     "output_type": "stream",
     "text": [
      "100%|██████████| 2/2 [00:00<00:00,  2.32it/s]\n"
     ]
    },
    {
     "name": "stdout",
     "output_type": "stream",
     "text": [
      "[Epoch 3050/10000] [Score: 0.9721599908972105]\n",
      "[Epoch 3075/10000] [Loss: 0.021616774331778287]\n"
     ]
    },
    {
     "name": "stderr",
     "output_type": "stream",
     "text": [
      "100%|██████████| 2/2 [00:00<00:00,  2.33it/s]\n"
     ]
    },
    {
     "name": "stdout",
     "output_type": "stream",
     "text": [
      "[Epoch 3075/10000] [Score: 0.9736100689040063]\n",
      "[Epoch 3100/10000] [Loss: 0.021299475878477095]\n"
     ]
    },
    {
     "name": "stderr",
     "output_type": "stream",
     "text": [
      "100%|██████████| 2/2 [00:00<00:00,  2.41it/s]\n"
     ]
    },
    {
     "name": "stdout",
     "output_type": "stream",
     "text": [
      "[Epoch 3100/10000] [Score: 0.9760741691987395]\n",
      "[Epoch 3125/10000] [Loss: 0.02114878622815013]\n"
     ]
    },
    {
     "name": "stderr",
     "output_type": "stream",
     "text": [
      "100%|██████████| 2/2 [00:00<00:00,  2.41it/s]\n"
     ]
    },
    {
     "name": "stdout",
     "output_type": "stream",
     "text": [
      "[Epoch 3125/10000] [Score: 0.9686822498825411]\n",
      "[Epoch 3150/10000] [Loss: 0.021363578382879497]\n"
     ]
    },
    {
     "name": "stderr",
     "output_type": "stream",
     "text": [
      "100%|██████████| 2/2 [00:00<00:00,  2.31it/s]\n"
     ]
    },
    {
     "name": "stdout",
     "output_type": "stream",
     "text": [
      "[Epoch 3150/10000] [Score: 0.967798995967]\n",
      "[Epoch 3175/10000] [Loss: 0.020371487848460674]\n"
     ]
    },
    {
     "name": "stderr",
     "output_type": "stream",
     "text": [
      "100%|██████████| 2/2 [00:00<00:00,  2.44it/s]\n"
     ]
    },
    {
     "name": "stdout",
     "output_type": "stream",
     "text": [
      "[Epoch 3175/10000] [Score: 0.970785359992537]\n",
      "[Epoch 3200/10000] [Loss: 0.020562767535448074]\n"
     ]
    },
    {
     "name": "stderr",
     "output_type": "stream",
     "text": [
      "100%|██████████| 2/2 [00:00<00:00,  2.31it/s]\n"
     ]
    },
    {
     "name": "stdout",
     "output_type": "stream",
     "text": [
      "[Epoch 3200/10000] [Score: 0.9720273531877015]\n",
      "[Epoch 3225/10000] [Loss: 0.019965238105505705]\n"
     ]
    },
    {
     "name": "stderr",
     "output_type": "stream",
     "text": [
      "100%|██████████| 2/2 [00:00<00:00,  2.42it/s]\n"
     ]
    },
    {
     "name": "stdout",
     "output_type": "stream",
     "text": [
      "[Epoch 3225/10000] [Score: 0.9730318839965656]\n",
      "[Epoch 3250/10000] [Loss: 0.020394260669127105]\n"
     ]
    },
    {
     "name": "stderr",
     "output_type": "stream",
     "text": [
      "100%|██████████| 2/2 [00:00<00:00,  2.38it/s]\n"
     ]
    },
    {
     "name": "stdout",
     "output_type": "stream",
     "text": [
      "[Epoch 3250/10000] [Score: 0.971550228891549]\n",
      "[Epoch 3275/10000] [Loss: 0.019789241617545486]\n"
     ]
    },
    {
     "name": "stderr",
     "output_type": "stream",
     "text": [
      "100%|██████████| 2/2 [00:00<00:00,  2.41it/s]\n"
     ]
    },
    {
     "name": "stdout",
     "output_type": "stream",
     "text": [
      "[Epoch 3275/10000] [Score: 0.9713494676497425]\n",
      "[Epoch 3300/10000] [Loss: 0.02002671499736607]\n"
     ]
    },
    {
     "name": "stderr",
     "output_type": "stream",
     "text": [
      "100%|██████████| 2/2 [00:00<00:00,  2.51it/s]\n"
     ]
    },
    {
     "name": "stdout",
     "output_type": "stream",
     "text": [
      "[Epoch 3300/10000] [Score: 0.9707457120289189]\n",
      "[Epoch 3325/10000] [Loss: 0.01932646448723972]\n"
     ]
    },
    {
     "name": "stderr",
     "output_type": "stream",
     "text": [
      "100%|██████████| 2/2 [00:00<00:00,  2.32it/s]\n"
     ]
    },
    {
     "name": "stdout",
     "output_type": "stream",
     "text": [
      "[Epoch 3325/10000] [Score: 0.9683302340001542]\n",
      "[Epoch 3350/10000] [Loss: 0.018773365309461953]\n"
     ]
    },
    {
     "name": "stderr",
     "output_type": "stream",
     "text": [
      "100%|██████████| 2/2 [00:00<00:00,  2.48it/s]\n"
     ]
    },
    {
     "name": "stdout",
     "output_type": "stream",
     "text": [
      "[Epoch 3350/10000] [Score: 0.9710190249352859]\n",
      "[Epoch 3375/10000] [Loss: 0.019037369079887866]\n"
     ]
    },
    {
     "name": "stderr",
     "output_type": "stream",
     "text": [
      "100%|██████████| 2/2 [00:00<00:00,  2.42it/s]\n"
     ]
    },
    {
     "name": "stdout",
     "output_type": "stream",
     "text": [
      "[Epoch 3375/10000] [Score: 0.9784042821859963]\n",
      "[Epoch 3400/10000] [Loss: 0.019122003968805076]\n"
     ]
    },
    {
     "name": "stderr",
     "output_type": "stream",
     "text": [
      "100%|██████████| 2/2 [00:00<00:00,  2.27it/s]\n"
     ]
    },
    {
     "name": "stdout",
     "output_type": "stream",
     "text": [
      "[Epoch 3400/10000] [Score: 0.9769537753561354]\n",
      "[Epoch 3425/10000] [Loss: 0.01952041474170983]\n"
     ]
    },
    {
     "name": "stderr",
     "output_type": "stream",
     "text": [
      "100%|██████████| 2/2 [00:00<00:00,  2.27it/s]\n"
     ]
    },
    {
     "name": "stdout",
     "output_type": "stream",
     "text": [
      "[Epoch 3425/10000] [Score: 0.9697288091122246]\n",
      "[Epoch 3450/10000] [Loss: 0.019296708758920433]\n"
     ]
    },
    {
     "name": "stderr",
     "output_type": "stream",
     "text": [
      "100%|██████████| 2/2 [00:00<00:00,  2.31it/s]\n"
     ]
    },
    {
     "name": "stdout",
     "output_type": "stream",
     "text": [
      "[Epoch 3450/10000] [Score: 0.9710461171951673]\n",
      "[Epoch 3475/10000] [Loss: 0.019216858390718697]\n"
     ]
    },
    {
     "name": "stderr",
     "output_type": "stream",
     "text": [
      "100%|██████████| 2/2 [00:00<00:00,  2.30it/s]\n"
     ]
    },
    {
     "name": "stdout",
     "output_type": "stream",
     "text": [
      "[Epoch 3475/10000] [Score: 0.9706722435828423]\n",
      "[Epoch 3500/10000] [Loss: 0.018286818312481044]\n"
     ]
    },
    {
     "name": "stderr",
     "output_type": "stream",
     "text": [
      "100%|██████████| 2/2 [00:00<00:00,  2.47it/s]\n"
     ]
    },
    {
     "name": "stdout",
     "output_type": "stream",
     "text": [
      "[Epoch 3500/10000] [Score: 0.9702819183529935]\n",
      "[Epoch 3525/10000] [Loss: 0.018397789588198064]\n"
     ]
    },
    {
     "name": "stderr",
     "output_type": "stream",
     "text": [
      "100%|██████████| 2/2 [00:00<00:00,  2.44it/s]\n"
     ]
    },
    {
     "name": "stdout",
     "output_type": "stream",
     "text": [
      "[Epoch 3525/10000] [Score: 0.9669772493423693]\n",
      "[Epoch 3550/10000] [Loss: 0.018262251475825907]\n"
     ]
    },
    {
     "name": "stderr",
     "output_type": "stream",
     "text": [
      "100%|██████████| 2/2 [00:00<00:00,  2.15it/s]\n"
     ]
    },
    {
     "name": "stdout",
     "output_type": "stream",
     "text": [
      "[Epoch 3550/10000] [Score: 0.9733310812302035]\n",
      "[Epoch 3575/10000] [Loss: 0.017876570103690027]\n"
     ]
    },
    {
     "name": "stderr",
     "output_type": "stream",
     "text": [
      "100%|██████████| 2/2 [00:00<00:00,  2.34it/s]\n"
     ]
    },
    {
     "name": "stdout",
     "output_type": "stream",
     "text": [
      "[Epoch 3575/10000] [Score: 0.9686452235100625]\n",
      "[Epoch 3600/10000] [Loss: 0.017426554579287767]\n"
     ]
    },
    {
     "name": "stderr",
     "output_type": "stream",
     "text": [
      "100%|██████████| 2/2 [00:00<00:00,  2.27it/s]\n"
     ]
    },
    {
     "name": "stdout",
     "output_type": "stream",
     "text": [
      "[Epoch 3600/10000] [Score: 0.9745685475566442]\n",
      "[Epoch 3625/10000] [Loss: 0.017944419030100106]\n"
     ]
    },
    {
     "name": "stderr",
     "output_type": "stream",
     "text": [
      "100%|██████████| 2/2 [00:00<00:00,  2.30it/s]\n"
     ]
    },
    {
     "name": "stdout",
     "output_type": "stream",
     "text": [
      "[Epoch 3625/10000] [Score: 0.9727658648094654]\n",
      "[Epoch 3650/10000] [Loss: 0.017519550789147617]\n"
     ]
    },
    {
     "name": "stderr",
     "output_type": "stream",
     "text": [
      "100%|██████████| 2/2 [00:00<00:00,  2.38it/s]\n"
     ]
    },
    {
     "name": "stdout",
     "output_type": "stream",
     "text": [
      "[Epoch 3650/10000] [Score: 0.967906324230384]\n",
      "[Epoch 3675/10000] [Loss: 0.017592054614797233]\n"
     ]
    },
    {
     "name": "stderr",
     "output_type": "stream",
     "text": [
      "100%|██████████| 2/2 [00:00<00:00,  2.25it/s]\n"
     ]
    },
    {
     "name": "stdout",
     "output_type": "stream",
     "text": [
      "[Epoch 3675/10000] [Score: 0.966080196349183]\n",
      "[Epoch 3700/10000] [Loss: 0.01658226146362722]\n"
     ]
    },
    {
     "name": "stderr",
     "output_type": "stream",
     "text": [
      "100%|██████████| 2/2 [00:00<00:00,  2.29it/s]\n"
     ]
    },
    {
     "name": "stdout",
     "output_type": "stream",
     "text": [
      "[Epoch 3700/10000] [Score: 0.9691913496836918]\n",
      "[Epoch 3725/10000] [Loss: 0.016585215153172614]\n"
     ]
    },
    {
     "name": "stderr",
     "output_type": "stream",
     "text": [
      "100%|██████████| 2/2 [00:00<00:00,  2.45it/s]\n"
     ]
    },
    {
     "name": "stdout",
     "output_type": "stream",
     "text": [
      "[Epoch 3725/10000] [Score: 0.9733824182330323]\n",
      "[Epoch 3750/10000] [Loss: 0.017331370841711758]\n"
     ]
    },
    {
     "name": "stderr",
     "output_type": "stream",
     "text": [
      "100%|██████████| 2/2 [00:00<00:00,  2.38it/s]\n"
     ]
    },
    {
     "name": "stdout",
     "output_type": "stream",
     "text": [
      "[Epoch 3750/10000] [Score: 0.9739289615490736]\n",
      "[Epoch 3775/10000] [Loss: 0.01674475028179586]\n"
     ]
    },
    {
     "name": "stderr",
     "output_type": "stream",
     "text": [
      "100%|██████████| 2/2 [00:00<00:00,  2.28it/s]\n"
     ]
    },
    {
     "name": "stdout",
     "output_type": "stream",
     "text": [
      "[Epoch 3775/10000] [Score: 0.9710561246196701]\n",
      "[Epoch 3800/10000] [Loss: 0.016870371447876096]\n"
     ]
    },
    {
     "name": "stderr",
     "output_type": "stream",
     "text": [
      "100%|██████████| 2/2 [00:00<00:00,  2.29it/s]\n"
     ]
    },
    {
     "name": "stdout",
     "output_type": "stream",
     "text": [
      "[Epoch 3800/10000] [Score: 0.9712562907804546]\n",
      "[Epoch 3825/10000] [Loss: 0.01594837493263185]\n"
     ]
    },
    {
     "name": "stderr",
     "output_type": "stream",
     "text": [
      "100%|██████████| 2/2 [00:00<00:00,  2.23it/s]\n"
     ]
    },
    {
     "name": "stdout",
     "output_type": "stream",
     "text": [
      "[Epoch 3825/10000] [Score: 0.9694897319671482]\n",
      "[Epoch 3850/10000] [Loss: 0.01633982270024717]\n"
     ]
    },
    {
     "name": "stderr",
     "output_type": "stream",
     "text": [
      "100%|██████████| 2/2 [00:00<00:00,  2.39it/s]\n"
     ]
    },
    {
     "name": "stdout",
     "output_type": "stream",
     "text": [
      "[Epoch 3850/10000] [Score: 0.9710035459401217]\n",
      "[Epoch 3875/10000] [Loss: 0.016302233021706344]\n"
     ]
    },
    {
     "name": "stderr",
     "output_type": "stream",
     "text": [
      "100%|██████████| 2/2 [00:00<00:00,  2.30it/s]\n"
     ]
    },
    {
     "name": "stdout",
     "output_type": "stream",
     "text": [
      "[Epoch 3875/10000] [Score: 0.971100653665321]\n",
      "[Epoch 3900/10000] [Loss: 0.015758814550936223]\n"
     ]
    },
    {
     "name": "stderr",
     "output_type": "stream",
     "text": [
      "100%|██████████| 2/2 [00:00<00:00,  2.42it/s]\n"
     ]
    },
    {
     "name": "stdout",
     "output_type": "stream",
     "text": [
      "[Epoch 3900/10000] [Score: 0.9656717961572555]\n",
      "[Epoch 3925/10000] [Loss: 0.016089813457801937]\n"
     ]
    },
    {
     "name": "stderr",
     "output_type": "stream",
     "text": [
      "100%|██████████| 2/2 [00:00<00:00,  2.37it/s]\n"
     ]
    },
    {
     "name": "stdout",
     "output_type": "stream",
     "text": [
      "[Epoch 3925/10000] [Score: 0.971640233548369]\n",
      "[Epoch 3950/10000] [Loss: 0.015354269230738283]\n"
     ]
    },
    {
     "name": "stderr",
     "output_type": "stream",
     "text": [
      "100%|██████████| 2/2 [00:00<00:00,  2.36it/s]\n"
     ]
    },
    {
     "name": "stdout",
     "output_type": "stream",
     "text": [
      "[Epoch 3950/10000] [Score: 0.9724178980870405]\n",
      "[Epoch 3975/10000] [Loss: 0.01537197313271463]\n"
     ]
    },
    {
     "name": "stderr",
     "output_type": "stream",
     "text": [
      "100%|██████████| 2/2 [00:00<00:00,  2.41it/s]\n"
     ]
    },
    {
     "name": "stdout",
     "output_type": "stream",
     "text": [
      "[Epoch 3975/10000] [Score: 0.9737077865190327]\n",
      "[Epoch 4000/10000] [Loss: 0.015194474160671234]\n"
     ]
    },
    {
     "name": "stderr",
     "output_type": "stream",
     "text": [
      "100%|██████████| 2/2 [00:00<00:00,  2.43it/s]\n"
     ]
    },
    {
     "name": "stdout",
     "output_type": "stream",
     "text": [
      "[Epoch 4000/10000] [Score: 0.9673903295493608]\n",
      "[Epoch 4025/10000] [Loss: 0.01554005365818739]\n"
     ]
    },
    {
     "name": "stderr",
     "output_type": "stream",
     "text": [
      "100%|██████████| 2/2 [00:00<00:00,  2.38it/s]\n"
     ]
    },
    {
     "name": "stdout",
     "output_type": "stream",
     "text": [
      "[Epoch 4025/10000] [Score: 0.9693168049562816]\n",
      "[Epoch 4050/10000] [Loss: 0.015192299708724022]\n"
     ]
    },
    {
     "name": "stderr",
     "output_type": "stream",
     "text": [
      "100%|██████████| 2/2 [00:00<00:00,  2.34it/s]\n"
     ]
    },
    {
     "name": "stdout",
     "output_type": "stream",
     "text": [
      "[Epoch 4050/10000] [Score: 0.9705519074646282]\n",
      "[Epoch 4075/10000] [Loss: 0.015391085930168628]\n"
     ]
    },
    {
     "name": "stderr",
     "output_type": "stream",
     "text": [
      "100%|██████████| 2/2 [00:00<00:00,  2.45it/s]\n"
     ]
    },
    {
     "name": "stdout",
     "output_type": "stream",
     "text": [
      "[Epoch 4075/10000] [Score: 0.9718291515064436]\n",
      "[Epoch 4100/10000] [Loss: 0.015146859353408218]\n"
     ]
    },
    {
     "name": "stderr",
     "output_type": "stream",
     "text": [
      "100%|██████████| 2/2 [00:00<00:00,  2.34it/s]\n"
     ]
    },
    {
     "name": "stdout",
     "output_type": "stream",
     "text": [
      "[Epoch 4100/10000] [Score: 0.9687269188963601]\n",
      "[Epoch 4125/10000] [Loss: 0.01487046791240573]\n"
     ]
    },
    {
     "name": "stderr",
     "output_type": "stream",
     "text": [
      "100%|██████████| 2/2 [00:00<00:00,  2.43it/s]\n"
     ]
    },
    {
     "name": "stdout",
     "output_type": "stream",
     "text": [
      "[Epoch 4125/10000] [Score: 0.9717844665190817]\n",
      "[Epoch 4150/10000] [Loss: 0.015006530322134495]\n"
     ]
    },
    {
     "name": "stderr",
     "output_type": "stream",
     "text": [
      "100%|██████████| 2/2 [00:00<00:00,  2.39it/s]\n"
     ]
    },
    {
     "name": "stdout",
     "output_type": "stream",
     "text": [
      "[Epoch 4150/10000] [Score: 0.9740839915697498]\n",
      "[Epoch 4175/10000] [Loss: 0.01470667983405292]\n"
     ]
    },
    {
     "name": "stderr",
     "output_type": "stream",
     "text": [
      "100%|██████████| 2/2 [00:00<00:00,  2.46it/s]\n"
     ]
    },
    {
     "name": "stdout",
     "output_type": "stream",
     "text": [
      "[Epoch 4175/10000] [Score: 0.9647497408758592]\n",
      "[Epoch 4200/10000] [Loss: 0.014086310304701328]\n"
     ]
    },
    {
     "name": "stderr",
     "output_type": "stream",
     "text": [
      "100%|██████████| 2/2 [00:00<00:00,  2.39it/s]\n"
     ]
    },
    {
     "name": "stdout",
     "output_type": "stream",
     "text": [
      "[Epoch 4200/10000] [Score: 0.9710880214882485]\n",
      "[Epoch 4225/10000] [Loss: 0.014604397667571902]\n"
     ]
    },
    {
     "name": "stderr",
     "output_type": "stream",
     "text": [
      "100%|██████████| 2/2 [00:00<00:00,  2.40it/s]\n"
     ]
    },
    {
     "name": "stdout",
     "output_type": "stream",
     "text": [
      "[Epoch 4225/10000] [Score: 0.9747773775340428]\n",
      "[Epoch 4250/10000] [Loss: 0.015010171458125115]\n"
     ]
    },
    {
     "name": "stderr",
     "output_type": "stream",
     "text": [
      "100%|██████████| 2/2 [00:00<00:00,  2.32it/s]\n"
     ]
    },
    {
     "name": "stdout",
     "output_type": "stream",
     "text": [
      "[Epoch 4250/10000] [Score: 0.9754753548935161]\n",
      "[Epoch 4275/10000] [Loss: 0.014188066981732845]\n"
     ]
    },
    {
     "name": "stderr",
     "output_type": "stream",
     "text": [
      "100%|██████████| 2/2 [00:00<00:00,  2.27it/s]\n"
     ]
    },
    {
     "name": "stdout",
     "output_type": "stream",
     "text": [
      "[Epoch 4275/10000] [Score: 0.9726560908635807]\n",
      "[Epoch 4300/10000] [Loss: 0.014066037982702255]\n"
     ]
    },
    {
     "name": "stderr",
     "output_type": "stream",
     "text": [
      "100%|██████████| 2/2 [00:00<00:00,  2.36it/s]\n"
     ]
    },
    {
     "name": "stdout",
     "output_type": "stream",
     "text": [
      "[Epoch 4300/10000] [Score: 0.9695512372946441]\n",
      "[Epoch 4325/10000] [Loss: 0.013891965579241515]\n"
     ]
    },
    {
     "name": "stderr",
     "output_type": "stream",
     "text": [
      "100%|██████████| 2/2 [00:00<00:00,  2.27it/s]\n"
     ]
    },
    {
     "name": "stdout",
     "output_type": "stream",
     "text": [
      "[Epoch 4325/10000] [Score: 0.9714884661570681]\n",
      "[Epoch 4350/10000] [Loss: 0.013501056339591741]\n"
     ]
    },
    {
     "name": "stderr",
     "output_type": "stream",
     "text": [
      "100%|██████████| 2/2 [00:00<00:00,  2.36it/s]\n"
     ]
    },
    {
     "name": "stdout",
     "output_type": "stream",
     "text": [
      "[Epoch 4350/10000] [Score: 0.9736672239702603]\n",
      "[Epoch 4375/10000] [Loss: 0.013674419727176429]\n"
     ]
    },
    {
     "name": "stderr",
     "output_type": "stream",
     "text": [
      "100%|██████████| 2/2 [00:00<00:00,  2.34it/s]\n"
     ]
    },
    {
     "name": "stdout",
     "output_type": "stream",
     "text": [
      "[Epoch 4375/10000] [Score: 0.9748833205917707]\n",
      "[Epoch 4400/10000] [Loss: 0.0133538054022938]\n"
     ]
    },
    {
     "name": "stderr",
     "output_type": "stream",
     "text": [
      "100%|██████████| 2/2 [00:00<00:00,  2.40it/s]\n"
     ]
    },
    {
     "name": "stdout",
     "output_type": "stream",
     "text": [
      "[Epoch 4400/10000] [Score: 0.9780623885046719]\n",
      "[Epoch 4425/10000] [Loss: 0.013054539151489734]\n"
     ]
    },
    {
     "name": "stderr",
     "output_type": "stream",
     "text": [
      "100%|██████████| 2/2 [00:00<00:00,  2.39it/s]\n"
     ]
    },
    {
     "name": "stdout",
     "output_type": "stream",
     "text": [
      "[Epoch 4425/10000] [Score: 0.9718401369776545]\n",
      "[Epoch 4450/10000] [Loss: 0.01372644587419927]\n"
     ]
    },
    {
     "name": "stderr",
     "output_type": "stream",
     "text": [
      "100%|██████████| 2/2 [00:00<00:00,  2.46it/s]\n"
     ]
    },
    {
     "name": "stdout",
     "output_type": "stream",
     "text": [
      "[Epoch 4450/10000] [Score: 0.9711183442973068]\n",
      "[Epoch 4475/10000] [Loss: 0.013435084279626608]\n"
     ]
    },
    {
     "name": "stderr",
     "output_type": "stream",
     "text": [
      "100%|██████████| 2/2 [00:00<00:00,  2.36it/s]\n"
     ]
    },
    {
     "name": "stdout",
     "output_type": "stream",
     "text": [
      "[Epoch 4475/10000] [Score: 0.9716372460632673]\n",
      "[Epoch 4500/10000] [Loss: 0.0131762036960572]\n"
     ]
    },
    {
     "name": "stderr",
     "output_type": "stream",
     "text": [
      "100%|██████████| 2/2 [00:00<00:00,  2.42it/s]\n"
     ]
    },
    {
     "name": "stdout",
     "output_type": "stream",
     "text": [
      "[Epoch 4500/10000] [Score: 0.9729499126007611]\n",
      "[Epoch 4525/10000] [Loss: 0.01315760351717472]\n"
     ]
    },
    {
     "name": "stderr",
     "output_type": "stream",
     "text": [
      "100%|██████████| 2/2 [00:00<00:00,  2.41it/s]\n"
     ]
    },
    {
     "name": "stdout",
     "output_type": "stream",
     "text": [
      "[Epoch 4525/10000] [Score: 0.9704036886623948]\n",
      "[Epoch 4550/10000] [Loss: 0.013188730785623192]\n"
     ]
    },
    {
     "name": "stderr",
     "output_type": "stream",
     "text": [
      "100%|██████████| 2/2 [00:00<00:00,  2.33it/s]\n"
     ]
    },
    {
     "name": "stdout",
     "output_type": "stream",
     "text": [
      "[Epoch 4550/10000] [Score: 0.970475272596493]\n",
      "[Epoch 4575/10000] [Loss: 0.013320578187704086]\n"
     ]
    },
    {
     "name": "stderr",
     "output_type": "stream",
     "text": [
      "100%|██████████| 2/2 [00:00<00:00,  2.37it/s]\n"
     ]
    },
    {
     "name": "stdout",
     "output_type": "stream",
     "text": [
      "[Epoch 4575/10000] [Score: 0.9735565281180142]\n",
      "[Epoch 4600/10000] [Loss: 0.012658624993637204]\n"
     ]
    },
    {
     "name": "stderr",
     "output_type": "stream",
     "text": [
      "100%|██████████| 2/2 [00:00<00:00,  2.32it/s]\n"
     ]
    },
    {
     "name": "stdout",
     "output_type": "stream",
     "text": [
      "[Epoch 4600/10000] [Score: 0.9736990158127957]\n",
      "[Epoch 4625/10000] [Loss: 0.012869928581640124]\n"
     ]
    },
    {
     "name": "stderr",
     "output_type": "stream",
     "text": [
      "100%|██████████| 2/2 [00:00<00:00,  2.35it/s]\n"
     ]
    },
    {
     "name": "stdout",
     "output_type": "stream",
     "text": [
      "[Epoch 4625/10000] [Score: 0.9699984373216287]\n",
      "[Epoch 4650/10000] [Loss: 0.01244603947736323]\n"
     ]
    },
    {
     "name": "stderr",
     "output_type": "stream",
     "text": [
      "100%|██████████| 2/2 [00:00<00:00,  2.43it/s]\n"
     ]
    },
    {
     "name": "stdout",
     "output_type": "stream",
     "text": [
      "[Epoch 4650/10000] [Score: 0.9680008741255018]\n",
      "[Epoch 4675/10000] [Loss: 0.012738406369462609]\n"
     ]
    },
    {
     "name": "stderr",
     "output_type": "stream",
     "text": [
      "100%|██████████| 2/2 [00:00<00:00,  2.35it/s]\n"
     ]
    },
    {
     "name": "stdout",
     "output_type": "stream",
     "text": [
      "[Epoch 4675/10000] [Score: 0.9753785578537224]\n",
      "[Epoch 4700/10000] [Loss: 0.011892762314528228]\n"
     ]
    },
    {
     "name": "stderr",
     "output_type": "stream",
     "text": [
      "100%|██████████| 2/2 [00:00<00:00,  2.36it/s]\n"
     ]
    },
    {
     "name": "stdout",
     "output_type": "stream",
     "text": [
      "[Epoch 4700/10000] [Score: 0.9703392194773285]\n",
      "[Epoch 4725/10000] [Loss: 0.011769848391413689]\n"
     ]
    },
    {
     "name": "stderr",
     "output_type": "stream",
     "text": [
      "100%|██████████| 2/2 [00:00<00:00,  2.37it/s]\n"
     ]
    },
    {
     "name": "stdout",
     "output_type": "stream",
     "text": [
      "[Epoch 4725/10000] [Score: 0.9735325397504272]\n",
      "[Epoch 4750/10000] [Loss: 0.011874563433229924]\n"
     ]
    },
    {
     "name": "stderr",
     "output_type": "stream",
     "text": [
      "100%|██████████| 2/2 [00:00<00:00,  2.36it/s]\n"
     ]
    },
    {
     "name": "stdout",
     "output_type": "stream",
     "text": [
      "[Epoch 4750/10000] [Score: 0.9718867126334643]\n",
      "[Epoch 4775/10000] [Loss: 0.011607757764868437]\n"
     ]
    },
    {
     "name": "stderr",
     "output_type": "stream",
     "text": [
      "100%|██████████| 2/2 [00:00<00:00,  2.36it/s]\n"
     ]
    },
    {
     "name": "stdout",
     "output_type": "stream",
     "text": [
      "[Epoch 4775/10000] [Score: 0.9680981615197782]\n",
      "[Epoch 4800/10000] [Loss: 0.012065555155277252]\n"
     ]
    },
    {
     "name": "stderr",
     "output_type": "stream",
     "text": [
      "100%|██████████| 2/2 [00:00<00:00,  2.29it/s]\n"
     ]
    },
    {
     "name": "stdout",
     "output_type": "stream",
     "text": [
      "[Epoch 4800/10000] [Score: 0.9714607865699884]\n",
      "[Epoch 4825/10000] [Loss: 0.01203628518152982]\n"
     ]
    },
    {
     "name": "stderr",
     "output_type": "stream",
     "text": [
      "100%|██████████| 2/2 [00:00<00:00,  2.36it/s]\n"
     ]
    },
    {
     "name": "stdout",
     "output_type": "stream",
     "text": [
      "[Epoch 4825/10000] [Score: 0.9729564367613301]\n",
      "[Epoch 4850/10000] [Loss: 0.01187467665411532]\n"
     ]
    },
    {
     "name": "stderr",
     "output_type": "stream",
     "text": [
      "100%|██████████| 2/2 [00:00<00:00,  2.36it/s]\n"
     ]
    },
    {
     "name": "stdout",
     "output_type": "stream",
     "text": [
      "[Epoch 4850/10000] [Score: 0.9712877290752447]\n",
      "[Epoch 4875/10000] [Loss: 0.011914794207550585]\n"
     ]
    },
    {
     "name": "stderr",
     "output_type": "stream",
     "text": [
      "100%|██████████| 2/2 [00:00<00:00,  2.23it/s]\n"
     ]
    },
    {
     "name": "stdout",
     "output_type": "stream",
     "text": [
      "[Epoch 4875/10000] [Score: 0.9711910109048182]\n",
      "[Epoch 4900/10000] [Loss: 0.011534214750863612]\n"
     ]
    },
    {
     "name": "stderr",
     "output_type": "stream",
     "text": [
      "100%|██████████| 2/2 [00:00<00:00,  2.34it/s]\n"
     ]
    },
    {
     "name": "stdout",
     "output_type": "stream",
     "text": [
      "[Epoch 4900/10000] [Score: 0.9701859711056716]\n",
      "[Epoch 4925/10000] [Loss: 0.012142536174505949]\n"
     ]
    },
    {
     "name": "stderr",
     "output_type": "stream",
     "text": [
      "100%|██████████| 2/2 [00:00<00:00,  2.39it/s]\n"
     ]
    },
    {
     "name": "stdout",
     "output_type": "stream",
     "text": [
      "[Epoch 4925/10000] [Score: 0.9700593840743034]\n",
      "[Epoch 4950/10000] [Loss: 0.012051336970180272]\n"
     ]
    },
    {
     "name": "stderr",
     "output_type": "stream",
     "text": [
      "100%|██████████| 2/2 [00:00<00:00,  2.47it/s]\n"
     ]
    },
    {
     "name": "stdout",
     "output_type": "stream",
     "text": [
      "[Epoch 4950/10000] [Score: 0.9770194770996902]\n",
      "[Epoch 4975/10000] [Loss: 0.011690530199557543]\n"
     ]
    },
    {
     "name": "stderr",
     "output_type": "stream",
     "text": [
      "100%|██████████| 2/2 [00:00<00:00,  2.28it/s]\n"
     ]
    },
    {
     "name": "stdout",
     "output_type": "stream",
     "text": [
      "[Epoch 4975/10000] [Score: 0.9708847777915149]\n",
      "[Epoch 5000/10000] [Loss: 0.011543469852767885]\n"
     ]
    },
    {
     "name": "stderr",
     "output_type": "stream",
     "text": [
      "100%|██████████| 2/2 [00:00<00:00,  2.36it/s]\n"
     ]
    },
    {
     "name": "stdout",
     "output_type": "stream",
     "text": [
      "[Epoch 5000/10000] [Score: 0.9761937198179912]\n",
      "[Epoch 5025/10000] [Loss: 0.010896294466219843]\n"
     ]
    },
    {
     "name": "stderr",
     "output_type": "stream",
     "text": [
      "100%|██████████| 2/2 [00:00<00:00,  2.36it/s]\n"
     ]
    },
    {
     "name": "stdout",
     "output_type": "stream",
     "text": [
      "[Epoch 5025/10000] [Score: 0.9721505283701832]\n",
      "[Epoch 5050/10000] [Loss: 0.011122073149308562]\n"
     ]
    },
    {
     "name": "stderr",
     "output_type": "stream",
     "text": [
      "100%|██████████| 2/2 [00:00<00:00,  2.20it/s]\n"
     ]
    },
    {
     "name": "stdout",
     "output_type": "stream",
     "text": [
      "[Epoch 5050/10000] [Score: 0.9697337526907432]\n",
      "[Epoch 5075/10000] [Loss: 0.011115982048213482]\n"
     ]
    },
    {
     "name": "stderr",
     "output_type": "stream",
     "text": [
      "100%|██████████| 2/2 [00:00<00:00,  2.38it/s]\n"
     ]
    },
    {
     "name": "stdout",
     "output_type": "stream",
     "text": [
      "[Epoch 5075/10000] [Score: 0.968132928501198]\n",
      "[Epoch 5100/10000] [Loss: 0.010983472284860908]\n"
     ]
    },
    {
     "name": "stderr",
     "output_type": "stream",
     "text": [
      "100%|██████████| 2/2 [00:00<00:00,  2.28it/s]\n"
     ]
    },
    {
     "name": "stdout",
     "output_type": "stream",
     "text": [
      "[Epoch 5100/10000] [Score: 0.9699170727540559]\n",
      "[Epoch 5125/10000] [Loss: 0.011187984547577799]\n"
     ]
    },
    {
     "name": "stderr",
     "output_type": "stream",
     "text": [
      "100%|██████████| 2/2 [00:00<00:00,  2.27it/s]\n"
     ]
    },
    {
     "name": "stdout",
     "output_type": "stream",
     "text": [
      "[Epoch 5125/10000] [Score: 0.9715368911830623]\n",
      "[Epoch 5150/10000] [Loss: 0.010663544279523193]\n"
     ]
    },
    {
     "name": "stderr",
     "output_type": "stream",
     "text": [
      "100%|██████████| 2/2 [00:00<00:00,  2.17it/s]\n"
     ]
    },
    {
     "name": "stdout",
     "output_type": "stream",
     "text": [
      "[Epoch 5150/10000] [Score: 0.9682037691331095]\n",
      "[Epoch 5175/10000] [Loss: 0.010619434900581837]\n"
     ]
    },
    {
     "name": "stderr",
     "output_type": "stream",
     "text": [
      "100%|██████████| 2/2 [00:00<00:00,  2.18it/s]\n"
     ]
    },
    {
     "name": "stdout",
     "output_type": "stream",
     "text": [
      "[Epoch 5175/10000] [Score: 0.9706783877394859]\n",
      "[Epoch 5200/10000] [Loss: 0.010441032899543644]\n"
     ]
    },
    {
     "name": "stderr",
     "output_type": "stream",
     "text": [
      "100%|██████████| 2/2 [00:00<00:00,  2.14it/s]\n"
     ]
    },
    {
     "name": "stdout",
     "output_type": "stream",
     "text": [
      "[Epoch 5200/10000] [Score: 0.9688372063250864]\n",
      "[Epoch 5225/10000] [Loss: 0.01060394857544452]\n"
     ]
    },
    {
     "name": "stderr",
     "output_type": "stream",
     "text": [
      "100%|██████████| 2/2 [00:01<00:00,  1.78it/s]\n"
     ]
    },
    {
     "name": "stdout",
     "output_type": "stream",
     "text": [
      "[Epoch 5225/10000] [Score: 0.9636614420469755]\n",
      "[Epoch 5250/10000] [Loss: 0.010302529954351484]\n"
     ]
    },
    {
     "name": "stderr",
     "output_type": "stream",
     "text": [
      "100%|██████████| 2/2 [00:00<00:00,  2.10it/s]\n"
     ]
    },
    {
     "name": "stdout",
     "output_type": "stream",
     "text": [
      "[Epoch 5250/10000] [Score: 0.9648559359495015]\n",
      "[Epoch 5275/10000] [Loss: 0.010164420646615326]\n"
     ]
    },
    {
     "name": "stderr",
     "output_type": "stream",
     "text": [
      "100%|██████████| 2/2 [00:00<00:00,  2.21it/s]\n"
     ]
    },
    {
     "name": "stdout",
     "output_type": "stream",
     "text": [
      "[Epoch 5275/10000] [Score: 0.9630261658676168]\n",
      "[Epoch 5300/10000] [Loss: 0.010657019182108343]\n"
     ]
    },
    {
     "name": "stderr",
     "output_type": "stream",
     "text": [
      "100%|██████████| 2/2 [00:00<00:00,  2.08it/s]\n"
     ]
    },
    {
     "name": "stdout",
     "output_type": "stream",
     "text": [
      "[Epoch 5300/10000] [Score: 0.9668798388519791]\n",
      "[Epoch 5325/10000] [Loss: 0.010155544662848116]\n"
     ]
    },
    {
     "name": "stderr",
     "output_type": "stream",
     "text": [
      "100%|██████████| 2/2 [00:00<00:00,  2.19it/s]\n"
     ]
    },
    {
     "name": "stdout",
     "output_type": "stream",
     "text": [
      "[Epoch 5325/10000] [Score: 0.9675882222756803]\n",
      "[Epoch 5350/10000] [Loss: 0.010171970794908702]\n"
     ]
    },
    {
     "name": "stderr",
     "output_type": "stream",
     "text": [
      "100%|██████████| 2/2 [00:00<00:00,  2.21it/s]\n"
     ]
    },
    {
     "name": "stdout",
     "output_type": "stream",
     "text": [
      "[Epoch 5350/10000] [Score: 0.9722218939326416]\n",
      "[Epoch 5375/10000] [Loss: 0.01036577801220119]\n"
     ]
    },
    {
     "name": "stderr",
     "output_type": "stream",
     "text": [
      "100%|██████████| 2/2 [00:00<00:00,  2.01it/s]\n"
     ]
    },
    {
     "name": "stdout",
     "output_type": "stream",
     "text": [
      "[Epoch 5375/10000] [Score: 0.9724647347771606]\n",
      "[Epoch 5400/10000] [Loss: 0.010028150235302746]\n"
     ]
    },
    {
     "name": "stderr",
     "output_type": "stream",
     "text": [
      "100%|██████████| 2/2 [00:00<00:00,  2.16it/s]\n"
     ]
    },
    {
     "name": "stdout",
     "output_type": "stream",
     "text": [
      "[Epoch 5400/10000] [Score: 0.9735612223428758]\n",
      "[Epoch 5425/10000] [Loss: 0.00987984954379499]\n"
     ]
    },
    {
     "name": "stderr",
     "output_type": "stream",
     "text": [
      "100%|██████████| 2/2 [00:00<00:00,  2.07it/s]\n"
     ]
    },
    {
     "name": "stdout",
     "output_type": "stream",
     "text": [
      "[Epoch 5425/10000] [Score: 0.9730553546216999]\n",
      "[Epoch 5450/10000] [Loss: 0.010032143108546734]\n"
     ]
    },
    {
     "name": "stderr",
     "output_type": "stream",
     "text": [
      "100%|██████████| 2/2 [00:00<00:00,  2.08it/s]\n"
     ]
    },
    {
     "name": "stdout",
     "output_type": "stream",
     "text": [
      "[Epoch 5450/10000] [Score: 0.9767963342623013]\n",
      "[Epoch 5475/10000] [Loss: 0.009452032158151269]\n"
     ]
    },
    {
     "name": "stderr",
     "output_type": "stream",
     "text": [
      "100%|██████████| 2/2 [00:00<00:00,  2.31it/s]\n"
     ]
    },
    {
     "name": "stdout",
     "output_type": "stream",
     "text": [
      "[Epoch 5475/10000] [Score: 0.9711643262697794]\n",
      "[Epoch 5500/10000] [Loss: 0.009536859807558357]\n"
     ]
    },
    {
     "name": "stderr",
     "output_type": "stream",
     "text": [
      "100%|██████████| 2/2 [00:00<00:00,  2.26it/s]\n"
     ]
    },
    {
     "name": "stdout",
     "output_type": "stream",
     "text": [
      "[Epoch 5500/10000] [Score: 0.9726563726634967]\n",
      "[Epoch 5525/10000] [Loss: 0.009901530765928328]\n"
     ]
    },
    {
     "name": "stderr",
     "output_type": "stream",
     "text": [
      "100%|██████████| 2/2 [00:00<00:00,  2.24it/s]\n"
     ]
    },
    {
     "name": "stdout",
     "output_type": "stream",
     "text": [
      "[Epoch 5525/10000] [Score: 0.9739045523119146]\n",
      "[Epoch 5550/10000] [Loss: 0.009583297367207706]\n"
     ]
    },
    {
     "name": "stderr",
     "output_type": "stream",
     "text": [
      "100%|██████████| 2/2 [00:00<00:00,  2.26it/s]\n"
     ]
    },
    {
     "name": "stdout",
     "output_type": "stream",
     "text": [
      "[Epoch 5550/10000] [Score: 0.9756377743416026]\n",
      "[Epoch 5575/10000] [Loss: 0.009479400077834725]\n"
     ]
    },
    {
     "name": "stderr",
     "output_type": "stream",
     "text": [
      "100%|██████████| 2/2 [00:00<00:00,  2.11it/s]\n"
     ]
    },
    {
     "name": "stdout",
     "output_type": "stream",
     "text": [
      "[Epoch 5575/10000] [Score: 0.9679572388661213]\n",
      "[Epoch 5600/10000] [Loss: 0.009426045319996775]\n"
     ]
    },
    {
     "name": "stderr",
     "output_type": "stream",
     "text": [
      "100%|██████████| 2/2 [00:00<00:00,  2.20it/s]\n"
     ]
    },
    {
     "name": "stdout",
     "output_type": "stream",
     "text": [
      "[Epoch 5600/10000] [Score: 0.9736332264144253]\n",
      "[Epoch 5625/10000] [Loss: 0.009314001360908151]\n"
     ]
    },
    {
     "name": "stderr",
     "output_type": "stream",
     "text": [
      "100%|██████████| 2/2 [00:00<00:00,  2.38it/s]\n"
     ]
    },
    {
     "name": "stdout",
     "output_type": "stream",
     "text": [
      "[Epoch 5625/10000] [Score: 0.9718673023164938]\n",
      "[Epoch 5650/10000] [Loss: 0.00924245902337134]\n"
     ]
    },
    {
     "name": "stderr",
     "output_type": "stream",
     "text": [
      "100%|██████████| 2/2 [00:00<00:00,  2.29it/s]\n"
     ]
    },
    {
     "name": "stdout",
     "output_type": "stream",
     "text": [
      "[Epoch 5650/10000] [Score: 0.9691156261727244]\n",
      "[Epoch 5675/10000] [Loss: 0.008912409082986414]\n"
     ]
    },
    {
     "name": "stderr",
     "output_type": "stream",
     "text": [
      "100%|██████████| 2/2 [00:00<00:00,  2.18it/s]\n"
     ]
    },
    {
     "name": "stdout",
     "output_type": "stream",
     "text": [
      "[Epoch 5675/10000] [Score: 0.9741090612463431]\n",
      "[Epoch 5700/10000] [Loss: 0.009142074887640773]\n"
     ]
    },
    {
     "name": "stderr",
     "output_type": "stream",
     "text": [
      "100%|██████████| 2/2 [00:00<00:00,  2.22it/s]\n"
     ]
    },
    {
     "name": "stdout",
     "output_type": "stream",
     "text": [
      "[Epoch 5700/10000] [Score: 0.969574912214734]\n",
      "[Epoch 5725/10000] [Loss: 0.009050071979872882]\n"
     ]
    },
    {
     "name": "stderr",
     "output_type": "stream",
     "text": [
      "100%|██████████| 2/2 [00:00<00:00,  2.34it/s]\n"
     ]
    },
    {
     "name": "stdout",
     "output_type": "stream",
     "text": [
      "[Epoch 5725/10000] [Score: 0.9712804125271232]\n",
      "[Epoch 5750/10000] [Loss: 0.009067074181511998]\n"
     ]
    },
    {
     "name": "stderr",
     "output_type": "stream",
     "text": [
      "100%|██████████| 2/2 [00:00<00:00,  2.34it/s]\n"
     ]
    },
    {
     "name": "stdout",
     "output_type": "stream",
     "text": [
      "[Epoch 5750/10000] [Score: 0.9724321753393418]\n",
      "[Epoch 5775/10000] [Loss: 0.009084148397669196]\n"
     ]
    },
    {
     "name": "stderr",
     "output_type": "stream",
     "text": [
      "100%|██████████| 2/2 [00:00<00:00,  2.21it/s]\n"
     ]
    },
    {
     "name": "stdout",
     "output_type": "stream",
     "text": [
      "[Epoch 5775/10000] [Score: 0.9748358243940064]\n",
      "[Epoch 5800/10000] [Loss: 0.008983875261619687]\n"
     ]
    },
    {
     "name": "stderr",
     "output_type": "stream",
     "text": [
      "100%|██████████| 2/2 [00:00<00:00,  2.24it/s]\n"
     ]
    },
    {
     "name": "stdout",
     "output_type": "stream",
     "text": [
      "[Epoch 5800/10000] [Score: 0.9697045780133449]\n",
      "[Epoch 5825/10000] [Loss: 0.0089379768865183]\n"
     ]
    },
    {
     "name": "stderr",
     "output_type": "stream",
     "text": [
      "100%|██████████| 2/2 [00:00<00:00,  2.05it/s]\n"
     ]
    },
    {
     "name": "stdout",
     "output_type": "stream",
     "text": [
      "[Epoch 5825/10000] [Score: 0.9732552259042303]\n",
      "[Epoch 5850/10000] [Loss: 0.008996403026394546]\n"
     ]
    },
    {
     "name": "stderr",
     "output_type": "stream",
     "text": [
      "100%|██████████| 2/2 [00:00<00:00,  2.06it/s]\n"
     ]
    },
    {
     "name": "stdout",
     "output_type": "stream",
     "text": [
      "[Epoch 5850/10000] [Score: 0.9704617144863952]\n",
      "[Epoch 5875/10000] [Loss: 0.0088574922317639]\n"
     ]
    },
    {
     "name": "stderr",
     "output_type": "stream",
     "text": [
      "100%|██████████| 2/2 [00:00<00:00,  2.11it/s]\n"
     ]
    },
    {
     "name": "stdout",
     "output_type": "stream",
     "text": [
      "[Epoch 5875/10000] [Score: 0.9698285087443965]\n",
      "[Epoch 5900/10000] [Loss: 0.008922601719386875]\n"
     ]
    },
    {
     "name": "stderr",
     "output_type": "stream",
     "text": [
      "100%|██████████| 2/2 [00:00<00:00,  2.13it/s]\n"
     ]
    },
    {
     "name": "stdout",
     "output_type": "stream",
     "text": [
      "[Epoch 5900/10000] [Score: 0.9738481047737678]\n",
      "[Epoch 5925/10000] [Loss: 0.008670294140465558]\n"
     ]
    },
    {
     "name": "stderr",
     "output_type": "stream",
     "text": [
      "100%|██████████| 2/2 [00:00<00:00,  2.19it/s]\n"
     ]
    },
    {
     "name": "stdout",
     "output_type": "stream",
     "text": [
      "[Epoch 5925/10000] [Score: 0.9715752283178326]\n",
      "[Epoch 5950/10000] [Loss: 0.008720319452695548]\n"
     ]
    },
    {
     "name": "stderr",
     "output_type": "stream",
     "text": [
      "100%|██████████| 2/2 [00:00<00:00,  2.29it/s]\n"
     ]
    },
    {
     "name": "stdout",
     "output_type": "stream",
     "text": [
      "[Epoch 5950/10000] [Score: 0.9714591728095588]\n",
      "[Epoch 5975/10000] [Loss: 0.00843265684787184]\n"
     ]
    },
    {
     "name": "stderr",
     "output_type": "stream",
     "text": [
      "100%|██████████| 2/2 [00:00<00:00,  2.10it/s]\n"
     ]
    },
    {
     "name": "stdout",
     "output_type": "stream",
     "text": [
      "[Epoch 5975/10000] [Score: 0.9694751159093503]\n",
      "[Epoch 6000/10000] [Loss: 0.00859093079343438]\n"
     ]
    },
    {
     "name": "stderr",
     "output_type": "stream",
     "text": [
      "100%|██████████| 2/2 [00:00<00:00,  2.03it/s]\n"
     ]
    },
    {
     "name": "stdout",
     "output_type": "stream",
     "text": [
      "[Epoch 6000/10000] [Score: 0.9713212965434425]\n",
      "[Epoch 6025/10000] [Loss: 0.008582952725701034]\n"
     ]
    },
    {
     "name": "stderr",
     "output_type": "stream",
     "text": [
      "100%|██████████| 2/2 [00:00<00:00,  2.10it/s]\n"
     ]
    },
    {
     "name": "stdout",
     "output_type": "stream",
     "text": [
      "[Epoch 6025/10000] [Score: 0.9731328320276559]\n",
      "[Epoch 6050/10000] [Loss: 0.008297243430279195]\n"
     ]
    },
    {
     "name": "stderr",
     "output_type": "stream",
     "text": [
      "100%|██████████| 2/2 [00:00<00:00,  2.34it/s]\n"
     ]
    },
    {
     "name": "stdout",
     "output_type": "stream",
     "text": [
      "[Epoch 6050/10000] [Score: 0.9704497082725273]\n",
      "[Epoch 6075/10000] [Loss: 0.008208029931411146]\n"
     ]
    },
    {
     "name": "stderr",
     "output_type": "stream",
     "text": [
      "100%|██████████| 2/2 [00:00<00:00,  2.06it/s]\n"
     ]
    },
    {
     "name": "stdout",
     "output_type": "stream",
     "text": [
      "[Epoch 6075/10000] [Score: 0.9727739915157061]\n",
      "[Epoch 6100/10000] [Loss: 0.008306916733272374]\n"
     ]
    },
    {
     "name": "stderr",
     "output_type": "stream",
     "text": [
      "100%|██████████| 2/2 [00:00<00:00,  2.13it/s]\n"
     ]
    },
    {
     "name": "stdout",
     "output_type": "stream",
     "text": [
      "[Epoch 6100/10000] [Score: 0.968506196416751]\n",
      "[Epoch 6125/10000] [Loss: 0.008251281576231123]\n"
     ]
    },
    {
     "name": "stderr",
     "output_type": "stream",
     "text": [
      "100%|██████████| 2/2 [00:00<00:00,  2.28it/s]\n"
     ]
    },
    {
     "name": "stdout",
     "output_type": "stream",
     "text": [
      "[Epoch 6125/10000] [Score: 0.9715577657414473]\n",
      "[Epoch 6150/10000] [Loss: 0.007952246475033462]\n"
     ]
    },
    {
     "name": "stderr",
     "output_type": "stream",
     "text": [
      "100%|██████████| 2/2 [00:00<00:00,  2.11it/s]\n"
     ]
    },
    {
     "name": "stdout",
     "output_type": "stream",
     "text": [
      "[Epoch 6150/10000] [Score: 0.9703030633634233]\n",
      "[Epoch 6175/10000] [Loss: 0.008130173021927476]\n"
     ]
    },
    {
     "name": "stderr",
     "output_type": "stream",
     "text": [
      "100%|██████████| 2/2 [00:00<00:00,  2.15it/s]\n"
     ]
    },
    {
     "name": "stdout",
     "output_type": "stream",
     "text": [
      "[Epoch 6175/10000] [Score: 0.97005660231512]\n",
      "[Epoch 6200/10000] [Loss: 0.008085956405848265]\n"
     ]
    },
    {
     "name": "stderr",
     "output_type": "stream",
     "text": [
      "100%|██████████| 2/2 [00:00<00:00,  2.10it/s]\n"
     ]
    },
    {
     "name": "stdout",
     "output_type": "stream",
     "text": [
      "[Epoch 6200/10000] [Score: 0.9711895431359131]\n",
      "[Epoch 6225/10000] [Loss: 0.008093101745471358]\n"
     ]
    },
    {
     "name": "stderr",
     "output_type": "stream",
     "text": [
      "100%|██████████| 2/2 [00:00<00:00,  2.10it/s]\n"
     ]
    },
    {
     "name": "stdout",
     "output_type": "stream",
     "text": [
      "[Epoch 6225/10000] [Score: 0.9681939792150133]\n",
      "[Epoch 6250/10000] [Loss: 0.008048213892616332]\n"
     ]
    },
    {
     "name": "stderr",
     "output_type": "stream",
     "text": [
      "100%|██████████| 2/2 [00:00<00:00,  2.19it/s]\n"
     ]
    },
    {
     "name": "stdout",
     "output_type": "stream",
     "text": [
      "[Epoch 6250/10000] [Score: 0.9706264813796945]\n",
      "[Epoch 6275/10000] [Loss: 0.00797106014098972]\n"
     ]
    },
    {
     "name": "stderr",
     "output_type": "stream",
     "text": [
      "100%|██████████| 2/2 [00:00<00:00,  2.24it/s]\n"
     ]
    },
    {
     "name": "stdout",
     "output_type": "stream",
     "text": [
      "[Epoch 6275/10000] [Score: 0.9685116156407817]\n",
      "[Epoch 6300/10000] [Loss: 0.00769747412763536]\n"
     ]
    },
    {
     "name": "stderr",
     "output_type": "stream",
     "text": [
      "100%|██████████| 2/2 [00:00<00:00,  2.24it/s]\n"
     ]
    },
    {
     "name": "stdout",
     "output_type": "stream",
     "text": [
      "[Epoch 6300/10000] [Score: 0.9722111342541123]\n",
      "[Epoch 6325/10000] [Loss: 0.0079230975266546]\n"
     ]
    },
    {
     "name": "stderr",
     "output_type": "stream",
     "text": [
      "100%|██████████| 2/2 [00:00<00:00,  2.29it/s]\n"
     ]
    },
    {
     "name": "stdout",
     "output_type": "stream",
     "text": [
      "[Epoch 6325/10000] [Score: 0.9726326432004142]\n",
      "[Epoch 6350/10000] [Loss: 0.007929026228375734]\n"
     ]
    },
    {
     "name": "stderr",
     "output_type": "stream",
     "text": [
      "100%|██████████| 2/2 [00:00<00:00,  2.22it/s]\n"
     ]
    },
    {
     "name": "stdout",
     "output_type": "stream",
     "text": [
      "[Epoch 6350/10000] [Score: 0.9721189161634468]\n",
      "[Epoch 6375/10000] [Loss: 0.007734332527033985]\n"
     ]
    },
    {
     "name": "stderr",
     "output_type": "stream",
     "text": [
      "100%|██████████| 2/2 [00:00<00:00,  2.31it/s]\n"
     ]
    },
    {
     "name": "stdout",
     "output_type": "stream",
     "text": [
      "[Epoch 6375/10000] [Score: 0.9715586068815832]\n",
      "[Epoch 6400/10000] [Loss: 0.007503786319866776]\n"
     ]
    },
    {
     "name": "stderr",
     "output_type": "stream",
     "text": [
      "100%|██████████| 2/2 [00:00<00:00,  2.15it/s]\n"
     ]
    },
    {
     "name": "stdout",
     "output_type": "stream",
     "text": [
      "[Epoch 6400/10000] [Score: 0.9737954389052991]\n",
      "[Epoch 6425/10000] [Loss: 0.007529680472798645]\n"
     ]
    },
    {
     "name": "stderr",
     "output_type": "stream",
     "text": [
      "100%|██████████| 2/2 [00:00<00:00,  2.18it/s]\n"
     ]
    },
    {
     "name": "stdout",
     "output_type": "stream",
     "text": [
      "[Epoch 6425/10000] [Score: 0.9684629792315725]\n",
      "[Epoch 6450/10000] [Loss: 0.007466069948859513]\n"
     ]
    },
    {
     "name": "stderr",
     "output_type": "stream",
     "text": [
      "100%|██████████| 2/2 [00:00<00:00,  2.26it/s]\n"
     ]
    },
    {
     "name": "stdout",
     "output_type": "stream",
     "text": [
      "[Epoch 6450/10000] [Score: 0.9701880339555986]\n",
      "[Epoch 6475/10000] [Loss: 0.007755733462981879]\n"
     ]
    },
    {
     "name": "stderr",
     "output_type": "stream",
     "text": [
      "100%|██████████| 2/2 [00:00<00:00,  2.40it/s]\n"
     ]
    },
    {
     "name": "stdout",
     "output_type": "stream",
     "text": [
      "[Epoch 6475/10000] [Score: 0.9710632277546054]\n",
      "[Epoch 6500/10000] [Loss: 0.00750976178329438]\n"
     ]
    },
    {
     "name": "stderr",
     "output_type": "stream",
     "text": [
      "100%|██████████| 2/2 [00:00<00:00,  2.30it/s]\n"
     ]
    },
    {
     "name": "stdout",
     "output_type": "stream",
     "text": [
      "[Epoch 6500/10000] [Score: 0.9712467955076646]\n",
      "[Epoch 6525/10000] [Loss: 0.007200407451018691]\n"
     ]
    },
    {
     "name": "stderr",
     "output_type": "stream",
     "text": [
      "100%|██████████| 2/2 [00:00<00:00,  2.40it/s]\n"
     ]
    },
    {
     "name": "stdout",
     "output_type": "stream",
     "text": [
      "[Epoch 6525/10000] [Score: 0.9709971931956329]\n",
      "[Epoch 6550/10000] [Loss: 0.007475332631729543]\n"
     ]
    },
    {
     "name": "stderr",
     "output_type": "stream",
     "text": [
      "100%|██████████| 2/2 [00:00<00:00,  2.19it/s]\n"
     ]
    },
    {
     "name": "stdout",
     "output_type": "stream",
     "text": [
      "[Epoch 6550/10000] [Score: 0.9721990754939446]\n",
      "[Epoch 6575/10000] [Loss: 0.007312649330124259]\n"
     ]
    },
    {
     "name": "stderr",
     "output_type": "stream",
     "text": [
      "100%|██████████| 2/2 [00:00<00:00,  2.28it/s]\n"
     ]
    },
    {
     "name": "stdout",
     "output_type": "stream",
     "text": [
      "[Epoch 6575/10000] [Score: 0.9715015624986689]\n",
      "[Epoch 6600/10000] [Loss: 0.00723824932705611]\n"
     ]
    },
    {
     "name": "stderr",
     "output_type": "stream",
     "text": [
      "100%|██████████| 2/2 [00:00<00:00,  2.36it/s]\n"
     ]
    },
    {
     "name": "stdout",
     "output_type": "stream",
     "text": [
      "[Epoch 6600/10000] [Score: 0.9709308161372823]\n",
      "[Epoch 6625/10000] [Loss: 0.007039785217493773]\n"
     ]
    },
    {
     "name": "stderr",
     "output_type": "stream",
     "text": [
      "100%|██████████| 2/2 [00:00<00:00,  2.39it/s]\n"
     ]
    },
    {
     "name": "stdout",
     "output_type": "stream",
     "text": [
      "[Epoch 6625/10000] [Score: 0.9714948493844009]\n",
      "[Epoch 6650/10000] [Loss: 0.006982717295177281]\n"
     ]
    },
    {
     "name": "stderr",
     "output_type": "stream",
     "text": [
      "100%|██████████| 2/2 [00:00<00:00,  2.29it/s]\n"
     ]
    },
    {
     "name": "stdout",
     "output_type": "stream",
     "text": [
      "[Epoch 6650/10000] [Score: 0.9696708901778474]\n",
      "[Epoch 6675/10000] [Loss: 0.007046310156583786]\n"
     ]
    },
    {
     "name": "stderr",
     "output_type": "stream",
     "text": [
      "100%|██████████| 2/2 [00:00<00:00,  2.28it/s]\n"
     ]
    },
    {
     "name": "stdout",
     "output_type": "stream",
     "text": [
      "[Epoch 6675/10000] [Score: 0.9714435710177852]\n",
      "[Epoch 6700/10000] [Loss: 0.0070863204216584565]\n"
     ]
    },
    {
     "name": "stderr",
     "output_type": "stream",
     "text": [
      "100%|██████████| 2/2 [00:00<00:00,  2.34it/s]\n"
     ]
    },
    {
     "name": "stdout",
     "output_type": "stream",
     "text": [
      "[Epoch 6700/10000] [Score: 0.969390379293635]\n",
      "[Epoch 6725/10000] [Loss: 0.007228420339524746]\n"
     ]
    },
    {
     "name": "stderr",
     "output_type": "stream",
     "text": [
      "100%|██████████| 2/2 [00:00<00:00,  2.36it/s]\n"
     ]
    },
    {
     "name": "stdout",
     "output_type": "stream",
     "text": [
      "[Epoch 6725/10000] [Score: 0.9728634158337529]\n",
      "[Epoch 6750/10000] [Loss: 0.007219548532739282]\n"
     ]
    },
    {
     "name": "stderr",
     "output_type": "stream",
     "text": [
      "100%|██████████| 2/2 [00:00<00:00,  2.51it/s]\n"
     ]
    },
    {
     "name": "stdout",
     "output_type": "stream",
     "text": [
      "[Epoch 6750/10000] [Score: 0.9697679426944897]\n",
      "[Epoch 6775/10000] [Loss: 0.007002367689274251]\n"
     ]
    },
    {
     "name": "stderr",
     "output_type": "stream",
     "text": [
      "100%|██████████| 2/2 [00:00<00:00,  2.47it/s]\n"
     ]
    },
    {
     "name": "stdout",
     "output_type": "stream",
     "text": [
      "[Epoch 6775/10000] [Score: 0.970839259085059]\n",
      "[Epoch 6800/10000] [Loss: 0.00682175746653229]\n"
     ]
    },
    {
     "name": "stderr",
     "output_type": "stream",
     "text": [
      "100%|██████████| 2/2 [00:00<00:00,  2.41it/s]\n"
     ]
    },
    {
     "name": "stdout",
     "output_type": "stream",
     "text": [
      "[Epoch 6800/10000] [Score: 0.969585245100169]\n",
      "[Epoch 6825/10000] [Loss: 0.0070757337380200624]\n"
     ]
    },
    {
     "name": "stderr",
     "output_type": "stream",
     "text": [
      "100%|██████████| 2/2 [00:00<00:00,  2.27it/s]\n"
     ]
    },
    {
     "name": "stdout",
     "output_type": "stream",
     "text": [
      "[Epoch 6825/10000] [Score: 0.9695914878601607]\n",
      "[Epoch 6850/10000] [Loss: 0.006913832440041005]\n"
     ]
    },
    {
     "name": "stderr",
     "output_type": "stream",
     "text": [
      "100%|██████████| 2/2 [00:00<00:00,  2.49it/s]\n"
     ]
    },
    {
     "name": "stdout",
     "output_type": "stream",
     "text": [
      "[Epoch 6850/10000] [Score: 0.9690004831863556]\n",
      "[Epoch 6875/10000] [Loss: 0.006801788485608995]\n"
     ]
    },
    {
     "name": "stderr",
     "output_type": "stream",
     "text": [
      "100%|██████████| 2/2 [00:00<00:00,  2.48it/s]\n"
     ]
    },
    {
     "name": "stdout",
     "output_type": "stream",
     "text": [
      "[Epoch 6875/10000] [Score: 0.971026635496428]\n",
      "[Epoch 6900/10000] [Loss: 0.006965921949595213]\n"
     ]
    },
    {
     "name": "stderr",
     "output_type": "stream",
     "text": [
      "100%|██████████| 2/2 [00:00<00:00,  2.34it/s]\n"
     ]
    },
    {
     "name": "stdout",
     "output_type": "stream",
     "text": [
      "[Epoch 6900/10000] [Score: 0.9714544309968512]\n",
      "[Epoch 6925/10000] [Loss: 0.006874911356717348]\n"
     ]
    },
    {
     "name": "stderr",
     "output_type": "stream",
     "text": [
      "100%|██████████| 2/2 [00:00<00:00,  2.28it/s]\n"
     ]
    },
    {
     "name": "stdout",
     "output_type": "stream",
     "text": [
      "[Epoch 6925/10000] [Score: 0.9723739471505223]\n",
      "[Epoch 6950/10000] [Loss: 0.006871085651218891]\n"
     ]
    },
    {
     "name": "stderr",
     "output_type": "stream",
     "text": [
      "100%|██████████| 2/2 [00:00<00:00,  2.46it/s]\n"
     ]
    },
    {
     "name": "stdout",
     "output_type": "stream",
     "text": [
      "[Epoch 6950/10000] [Score: 0.9714066148290597]\n",
      "[Epoch 6975/10000] [Loss: 0.006802236502990127]\n"
     ]
    },
    {
     "name": "stderr",
     "output_type": "stream",
     "text": [
      "100%|██████████| 2/2 [00:00<00:00,  2.43it/s]\n"
     ]
    },
    {
     "name": "stdout",
     "output_type": "stream",
     "text": [
      "[Epoch 6975/10000] [Score: 0.9701443312412784]\n",
      "[Epoch 7000/10000] [Loss: 0.006654786285944283]\n"
     ]
    },
    {
     "name": "stderr",
     "output_type": "stream",
     "text": [
      "100%|██████████| 2/2 [00:00<00:00,  2.34it/s]\n"
     ]
    },
    {
     "name": "stdout",
     "output_type": "stream",
     "text": [
      "[Epoch 7000/10000] [Score: 0.9708866411718277]\n",
      "[Epoch 7025/10000] [Loss: 0.006599273551255464]\n"
     ]
    },
    {
     "name": "stderr",
     "output_type": "stream",
     "text": [
      "100%|██████████| 2/2 [00:00<00:00,  2.40it/s]\n"
     ]
    },
    {
     "name": "stdout",
     "output_type": "stream",
     "text": [
      "[Epoch 7025/10000] [Score: 0.9678241854118853]\n",
      "[Epoch 7050/10000] [Loss: 0.006575638339854777]\n"
     ]
    },
    {
     "name": "stderr",
     "output_type": "stream",
     "text": [
      "100%|██████████| 2/2 [00:00<00:00,  2.30it/s]\n"
     ]
    },
    {
     "name": "stdout",
     "output_type": "stream",
     "text": [
      "[Epoch 7050/10000] [Score: 0.9696390749740057]\n",
      "[Epoch 7075/10000] [Loss: 0.006546296952292323]\n"
     ]
    },
    {
     "name": "stderr",
     "output_type": "stream",
     "text": [
      "100%|██████████| 2/2 [00:00<00:00,  2.29it/s]\n"
     ]
    },
    {
     "name": "stdout",
     "output_type": "stream",
     "text": [
      "[Epoch 7075/10000] [Score: 0.9709215564742472]\n",
      "[Epoch 7100/10000] [Loss: 0.006483546853996813]\n"
     ]
    },
    {
     "name": "stderr",
     "output_type": "stream",
     "text": [
      "100%|██████████| 2/2 [00:00<00:00,  2.25it/s]\n"
     ]
    },
    {
     "name": "stdout",
     "output_type": "stream",
     "text": [
      "[Epoch 7100/10000] [Score: 0.9713878709416021]\n",
      "[Epoch 7125/10000] [Loss: 0.006402891911566257]\n"
     ]
    },
    {
     "name": "stderr",
     "output_type": "stream",
     "text": [
      "100%|██████████| 2/2 [00:00<00:00,  2.46it/s]\n"
     ]
    },
    {
     "name": "stdout",
     "output_type": "stream",
     "text": [
      "[Epoch 7125/10000] [Score: 0.9721670746642254]\n",
      "[Epoch 7150/10000] [Loss: 0.006358643961139023]\n"
     ]
    },
    {
     "name": "stderr",
     "output_type": "stream",
     "text": [
      "100%|██████████| 2/2 [00:00<00:00,  2.42it/s]\n"
     ]
    },
    {
     "name": "stdout",
     "output_type": "stream",
     "text": [
      "[Epoch 7150/10000] [Score: 0.9713241824634354]\n",
      "[Epoch 7175/10000] [Loss: 0.00620199475903064]\n"
     ]
    },
    {
     "name": "stderr",
     "output_type": "stream",
     "text": [
      "100%|██████████| 2/2 [00:00<00:00,  2.46it/s]\n"
     ]
    },
    {
     "name": "stdout",
     "output_type": "stream",
     "text": [
      "[Epoch 7175/10000] [Score: 0.9709190006741367]\n",
      "[Epoch 7200/10000] [Loss: 0.0063700481224805115]\n"
     ]
    },
    {
     "name": "stderr",
     "output_type": "stream",
     "text": [
      "100%|██████████| 2/2 [00:00<00:00,  2.48it/s]\n"
     ]
    },
    {
     "name": "stdout",
     "output_type": "stream",
     "text": [
      "[Epoch 7200/10000] [Score: 0.9703588904958272]\n",
      "[Epoch 7225/10000] [Loss: 0.0063101095193997024]\n"
     ]
    },
    {
     "name": "stderr",
     "output_type": "stream",
     "text": [
      "100%|██████████| 2/2 [00:00<00:00,  2.47it/s]\n"
     ]
    },
    {
     "name": "stdout",
     "output_type": "stream",
     "text": [
      "[Epoch 7225/10000] [Score: 0.9674188028218436]\n",
      "[Epoch 7250/10000] [Loss: 0.006509521249681711]\n"
     ]
    },
    {
     "name": "stderr",
     "output_type": "stream",
     "text": [
      "100%|██████████| 2/2 [00:00<00:00,  2.43it/s]\n"
     ]
    },
    {
     "name": "stdout",
     "output_type": "stream",
     "text": [
      "[Epoch 7250/10000] [Score: 0.9685551216475793]\n",
      "[Epoch 7275/10000] [Loss: 0.006349707520566881]\n"
     ]
    },
    {
     "name": "stderr",
     "output_type": "stream",
     "text": [
      "100%|██████████| 2/2 [00:00<00:00,  2.47it/s]\n"
     ]
    },
    {
     "name": "stdout",
     "output_type": "stream",
     "text": [
      "[Epoch 7275/10000] [Score: 0.9694101573348698]\n",
      "[Epoch 7300/10000] [Loss: 0.006240380005910992]\n"
     ]
    },
    {
     "name": "stderr",
     "output_type": "stream",
     "text": [
      "100%|██████████| 2/2 [00:00<00:00,  2.41it/s]\n"
     ]
    },
    {
     "name": "stdout",
     "output_type": "stream",
     "text": [
      "[Epoch 7300/10000] [Score: 0.9710846361620987]\n",
      "[Epoch 7325/10000] [Loss: 0.006275696032680571]\n"
     ]
    },
    {
     "name": "stderr",
     "output_type": "stream",
     "text": [
      "100%|██████████| 2/2 [00:00<00:00,  2.41it/s]\n"
     ]
    },
    {
     "name": "stdout",
     "output_type": "stream",
     "text": [
      "[Epoch 7325/10000] [Score: 0.9690317265373684]\n",
      "[Epoch 7350/10000] [Loss: 0.006060931622050703]\n"
     ]
    },
    {
     "name": "stderr",
     "output_type": "stream",
     "text": [
      "100%|██████████| 2/2 [00:00<00:00,  2.45it/s]\n"
     ]
    },
    {
     "name": "stdout",
     "output_type": "stream",
     "text": [
      "[Epoch 7350/10000] [Score: 0.969341495194679]\n",
      "[Epoch 7375/10000] [Loss: 0.0060752957314252854]\n"
     ]
    },
    {
     "name": "stderr",
     "output_type": "stream",
     "text": [
      "100%|██████████| 2/2 [00:00<00:00,  2.56it/s]\n"
     ]
    },
    {
     "name": "stdout",
     "output_type": "stream",
     "text": [
      "[Epoch 7375/10000] [Score: 0.9653793482778604]\n",
      "[Epoch 7400/10000] [Loss: 0.006176774587947876]\n"
     ]
    },
    {
     "name": "stderr",
     "output_type": "stream",
     "text": [
      "100%|██████████| 2/2 [00:00<00:00,  2.49it/s]\n"
     ]
    },
    {
     "name": "stdout",
     "output_type": "stream",
     "text": [
      "[Epoch 7400/10000] [Score: 0.9663557977317677]\n",
      "[Epoch 7425/10000] [Loss: 0.006076582628302276]\n"
     ]
    },
    {
     "name": "stderr",
     "output_type": "stream",
     "text": [
      "100%|██████████| 2/2 [00:00<00:00,  2.34it/s]\n"
     ]
    },
    {
     "name": "stdout",
     "output_type": "stream",
     "text": [
      "[Epoch 7425/10000] [Score: 0.9697067541755905]\n",
      "[Epoch 7450/10000] [Loss: 0.006031942213885486]\n"
     ]
    },
    {
     "name": "stderr",
     "output_type": "stream",
     "text": [
      "100%|██████████| 2/2 [00:00<00:00,  2.44it/s]\n"
     ]
    },
    {
     "name": "stdout",
     "output_type": "stream",
     "text": [
      "[Epoch 7450/10000] [Score: 0.9690748623905919]\n",
      "[Epoch 7475/10000] [Loss: 0.006044824933633208]\n"
     ]
    },
    {
     "name": "stderr",
     "output_type": "stream",
     "text": [
      "100%|██████████| 2/2 [00:00<00:00,  2.43it/s]\n"
     ]
    },
    {
     "name": "stdout",
     "output_type": "stream",
     "text": [
      "[Epoch 7475/10000] [Score: 0.9702753873038343]\n",
      "[Epoch 7500/10000] [Loss: 0.005968152573332191]\n"
     ]
    },
    {
     "name": "stderr",
     "output_type": "stream",
     "text": [
      "100%|██████████| 2/2 [00:00<00:00,  2.45it/s]\n"
     ]
    },
    {
     "name": "stdout",
     "output_type": "stream",
     "text": [
      "[Epoch 7500/10000] [Score: 0.9665372030997618]\n",
      "[Epoch 7525/10000] [Loss: 0.006111252792179584]\n"
     ]
    },
    {
     "name": "stderr",
     "output_type": "stream",
     "text": [
      "100%|██████████| 2/2 [00:00<00:00,  2.24it/s]\n"
     ]
    },
    {
     "name": "stdout",
     "output_type": "stream",
     "text": [
      "[Epoch 7525/10000] [Score: 0.9674615798028076]\n",
      "[Epoch 7550/10000] [Loss: 0.0057324381219223145]\n"
     ]
    },
    {
     "name": "stderr",
     "output_type": "stream",
     "text": [
      "100%|██████████| 2/2 [00:00<00:00,  2.37it/s]\n"
     ]
    },
    {
     "name": "stdout",
     "output_type": "stream",
     "text": [
      "[Epoch 7550/10000] [Score: 0.968800098653931]\n",
      "[Epoch 7575/10000] [Loss: 0.005938184442929924]\n"
     ]
    },
    {
     "name": "stderr",
     "output_type": "stream",
     "text": [
      "100%|██████████| 2/2 [00:00<00:00,  2.49it/s]\n"
     ]
    },
    {
     "name": "stdout",
     "output_type": "stream",
     "text": [
      "[Epoch 7575/10000] [Score: 0.9698098612972027]\n",
      "[Epoch 7600/10000] [Loss: 0.0058042626408860085]\n"
     ]
    },
    {
     "name": "stderr",
     "output_type": "stream",
     "text": [
      "100%|██████████| 2/2 [00:00<00:00,  2.47it/s]\n"
     ]
    },
    {
     "name": "stdout",
     "output_type": "stream",
     "text": [
      "[Epoch 7600/10000] [Score: 0.9701741438953166]\n",
      "[Epoch 7625/10000] [Loss: 0.005760458286385983]\n"
     ]
    },
    {
     "name": "stderr",
     "output_type": "stream",
     "text": [
      "100%|██████████| 2/2 [00:00<00:00,  2.37it/s]\n"
     ]
    },
    {
     "name": "stdout",
     "output_type": "stream",
     "text": [
      "[Epoch 7625/10000] [Score: 0.9681922845552454]\n",
      "[Epoch 7650/10000] [Loss: 0.005786842042580247]\n"
     ]
    },
    {
     "name": "stderr",
     "output_type": "stream",
     "text": [
      "100%|██████████| 2/2 [00:00<00:00,  2.39it/s]\n"
     ]
    },
    {
     "name": "stdout",
     "output_type": "stream",
     "text": [
      "[Epoch 7650/10000] [Score: 0.9683201183548998]\n",
      "[Epoch 7675/10000] [Loss: 0.005816746200434863]\n"
     ]
    },
    {
     "name": "stderr",
     "output_type": "stream",
     "text": [
      "100%|██████████| 2/2 [00:00<00:00,  2.42it/s]\n"
     ]
    },
    {
     "name": "stdout",
     "output_type": "stream",
     "text": [
      "[Epoch 7675/10000] [Score: 0.9694550305438097]\n",
      "[Epoch 7700/10000] [Loss: 0.005673327259719372]\n"
     ]
    },
    {
     "name": "stderr",
     "output_type": "stream",
     "text": [
      "100%|██████████| 2/2 [00:00<00:00,  2.38it/s]\n"
     ]
    },
    {
     "name": "stdout",
     "output_type": "stream",
     "text": [
      "[Epoch 7700/10000] [Score: 0.9682546447002235]\n",
      "[Epoch 7725/10000] [Loss: 0.0057631741603836415]\n"
     ]
    },
    {
     "name": "stderr",
     "output_type": "stream",
     "text": [
      "100%|██████████| 2/2 [00:00<00:00,  2.47it/s]\n"
     ]
    },
    {
     "name": "stdout",
     "output_type": "stream",
     "text": [
      "[Epoch 7725/10000] [Score: 0.9690664123532245]\n",
      "[Epoch 7750/10000] [Loss: 0.005578379733487964]\n"
     ]
    },
    {
     "name": "stderr",
     "output_type": "stream",
     "text": [
      "100%|██████████| 2/2 [00:00<00:00,  2.39it/s]\n"
     ]
    },
    {
     "name": "stdout",
     "output_type": "stream",
     "text": [
      "[Epoch 7750/10000] [Score: 0.9681545091234485]\n",
      "[Epoch 7775/10000] [Loss: 0.00548419049475342]\n"
     ]
    },
    {
     "name": "stderr",
     "output_type": "stream",
     "text": [
      "100%|██████████| 2/2 [00:00<00:00,  2.23it/s]\n"
     ]
    },
    {
     "name": "stdout",
     "output_type": "stream",
     "text": [
      "[Epoch 7775/10000] [Score: 0.9716681049843524]\n",
      "[Epoch 7800/10000] [Loss: 0.005736423130147159]\n"
     ]
    },
    {
     "name": "stderr",
     "output_type": "stream",
     "text": [
      "100%|██████████| 2/2 [00:00<00:00,  2.52it/s]\n"
     ]
    },
    {
     "name": "stdout",
     "output_type": "stream",
     "text": [
      "[Epoch 7800/10000] [Score: 0.9691830688327642]\n",
      "[Epoch 7825/10000] [Loss: 0.005576334786601364]\n"
     ]
    },
    {
     "name": "stderr",
     "output_type": "stream",
     "text": [
      "100%|██████████| 2/2 [00:00<00:00,  2.43it/s]\n"
     ]
    },
    {
     "name": "stdout",
     "output_type": "stream",
     "text": [
      "[Epoch 7825/10000] [Score: 0.9682065720572369]\n",
      "[Epoch 7850/10000] [Loss: 0.005546420875471085]\n"
     ]
    },
    {
     "name": "stderr",
     "output_type": "stream",
     "text": [
      "100%|██████████| 2/2 [00:00<00:00,  2.46it/s]\n"
     ]
    },
    {
     "name": "stdout",
     "output_type": "stream",
     "text": [
      "[Epoch 7850/10000] [Score: 0.9696145410766572]\n",
      "[Epoch 7875/10000] [Loss: 0.0057041124068200584]\n"
     ]
    },
    {
     "name": "stderr",
     "output_type": "stream",
     "text": [
      "100%|██████████| 2/2 [00:00<00:00,  2.43it/s]\n"
     ]
    },
    {
     "name": "stdout",
     "output_type": "stream",
     "text": [
      "[Epoch 7875/10000] [Score: 0.9677311994264327]\n",
      "[Epoch 7900/10000] [Loss: 0.005521125250961632]\n"
     ]
    },
    {
     "name": "stderr",
     "output_type": "stream",
     "text": [
      "100%|██████████| 2/2 [00:00<00:00,  2.30it/s]\n"
     ]
    },
    {
     "name": "stdout",
     "output_type": "stream",
     "text": [
      "[Epoch 7900/10000] [Score: 0.9682412739464703]\n",
      "[Epoch 7925/10000] [Loss: 0.005469714654609561]\n"
     ]
    },
    {
     "name": "stderr",
     "output_type": "stream",
     "text": [
      "100%|██████████| 2/2 [00:00<00:00,  2.41it/s]\n"
     ]
    },
    {
     "name": "stdout",
     "output_type": "stream",
     "text": [
      "[Epoch 7925/10000] [Score: 0.9679522563520923]\n",
      "[Epoch 7950/10000] [Loss: 0.005537511631846428]\n"
     ]
    },
    {
     "name": "stderr",
     "output_type": "stream",
     "text": [
      "100%|██████████| 2/2 [00:00<00:00,  2.27it/s]\n"
     ]
    },
    {
     "name": "stdout",
     "output_type": "stream",
     "text": [
      "[Epoch 7950/10000] [Score: 0.9701523192106448]\n",
      "[Epoch 7975/10000] [Loss: 0.005489656473509967]\n"
     ]
    },
    {
     "name": "stderr",
     "output_type": "stream",
     "text": [
      "100%|██████████| 2/2 [00:00<00:00,  2.29it/s]\n"
     ]
    },
    {
     "name": "stdout",
     "output_type": "stream",
     "text": [
      "[Epoch 7975/10000] [Score: 0.9711058470966702]\n",
      "[Epoch 8000/10000] [Loss: 0.00551083191530779]\n"
     ]
    },
    {
     "name": "stderr",
     "output_type": "stream",
     "text": [
      "100%|██████████| 2/2 [00:00<00:00,  2.32it/s]\n"
     ]
    },
    {
     "name": "stdout",
     "output_type": "stream",
     "text": [
      "[Epoch 8000/10000] [Score: 0.9735094074648943]\n",
      "[Epoch 8025/10000] [Loss: 0.005564603293314576]\n"
     ]
    },
    {
     "name": "stderr",
     "output_type": "stream",
     "text": [
      "100%|██████████| 2/2 [00:00<00:00,  2.19it/s]\n"
     ]
    },
    {
     "name": "stdout",
     "output_type": "stream",
     "text": [
      "[Epoch 8025/10000] [Score: 0.9705790225200864]\n",
      "[Epoch 8050/10000] [Loss: 0.005369719904847443]\n"
     ]
    },
    {
     "name": "stderr",
     "output_type": "stream",
     "text": [
      "100%|██████████| 2/2 [00:00<00:00,  2.35it/s]\n"
     ]
    },
    {
     "name": "stdout",
     "output_type": "stream",
     "text": [
      "[Epoch 8050/10000] [Score: 0.9714367468873956]\n",
      "[Epoch 8075/10000] [Loss: 0.005234911774750799]\n"
     ]
    },
    {
     "name": "stderr",
     "output_type": "stream",
     "text": [
      "100%|██████████| 2/2 [00:00<00:00,  2.40it/s]\n"
     ]
    },
    {
     "name": "stdout",
     "output_type": "stream",
     "text": [
      "[Epoch 8075/10000] [Score: 0.968411160593153]\n",
      "[Epoch 8100/10000] [Loss: 0.005311280293390155]\n"
     ]
    },
    {
     "name": "stderr",
     "output_type": "stream",
     "text": [
      "100%|██████████| 2/2 [00:00<00:00,  2.33it/s]\n"
     ]
    },
    {
     "name": "stdout",
     "output_type": "stream",
     "text": [
      "[Epoch 8100/10000] [Score: 0.9706492290023521]\n",
      "[Epoch 8125/10000] [Loss: 0.005435525034554303]\n"
     ]
    },
    {
     "name": "stderr",
     "output_type": "stream",
     "text": [
      "100%|██████████| 2/2 [00:00<00:00,  2.47it/s]\n"
     ]
    },
    {
     "name": "stdout",
     "output_type": "stream",
     "text": [
      "[Epoch 8125/10000] [Score: 0.969401831225571]\n",
      "[Epoch 8150/10000] [Loss: 0.005433197368402034]\n"
     ]
    },
    {
     "name": "stderr",
     "output_type": "stream",
     "text": [
      "100%|██████████| 2/2 [00:00<00:00,  2.39it/s]\n"
     ]
    },
    {
     "name": "stdout",
     "output_type": "stream",
     "text": [
      "[Epoch 8150/10000] [Score: 0.9696985267694744]\n",
      "[Epoch 8175/10000] [Loss: 0.00527850674232468]\n"
     ]
    },
    {
     "name": "stderr",
     "output_type": "stream",
     "text": [
      "100%|██████████| 2/2 [00:00<00:00,  2.44it/s]\n"
     ]
    },
    {
     "name": "stdout",
     "output_type": "stream",
     "text": [
      "[Epoch 8175/10000] [Score: 0.9705036313253631]\n",
      "[Epoch 8200/10000] [Loss: 0.0054344771103933456]\n"
     ]
    },
    {
     "name": "stderr",
     "output_type": "stream",
     "text": [
      "100%|██████████| 2/2 [00:00<00:00,  2.44it/s]\n"
     ]
    },
    {
     "name": "stdout",
     "output_type": "stream",
     "text": [
      "[Epoch 8200/10000] [Score: 0.9688944604605835]\n",
      "[Epoch 8225/10000] [Loss: 0.005197820288594812]\n"
     ]
    },
    {
     "name": "stderr",
     "output_type": "stream",
     "text": [
      "100%|██████████| 2/2 [00:00<00:00,  2.44it/s]\n"
     ]
    },
    {
     "name": "stdout",
     "output_type": "stream",
     "text": [
      "[Epoch 8225/10000] [Score: 0.9694814411327565]\n",
      "[Epoch 8250/10000] [Loss: 0.005440468424931169]\n"
     ]
    },
    {
     "name": "stderr",
     "output_type": "stream",
     "text": [
      "100%|██████████| 2/2 [00:00<00:00,  2.39it/s]\n"
     ]
    },
    {
     "name": "stdout",
     "output_type": "stream",
     "text": [
      "[Epoch 8250/10000] [Score: 0.9720116079668256]\n",
      "[Epoch 8275/10000] [Loss: 0.005376498757395893]\n"
     ]
    },
    {
     "name": "stderr",
     "output_type": "stream",
     "text": [
      "100%|██████████| 2/2 [00:00<00:00,  2.44it/s]\n"
     ]
    },
    {
     "name": "stdout",
     "output_type": "stream",
     "text": [
      "[Epoch 8275/10000] [Score: 0.9730678151164662]\n",
      "[Epoch 8300/10000] [Loss: 0.0052719582873396575]\n"
     ]
    },
    {
     "name": "stderr",
     "output_type": "stream",
     "text": [
      "100%|██████████| 2/2 [00:00<00:00,  2.42it/s]\n"
     ]
    },
    {
     "name": "stdout",
     "output_type": "stream",
     "text": [
      "[Epoch 8300/10000] [Score: 0.971772988663417]\n",
      "[Epoch 8325/10000] [Loss: 0.00524894014466554]\n"
     ]
    },
    {
     "name": "stderr",
     "output_type": "stream",
     "text": [
      "100%|██████████| 2/2 [00:00<00:00,  2.35it/s]\n"
     ]
    },
    {
     "name": "stdout",
     "output_type": "stream",
     "text": [
      "[Epoch 8325/10000] [Score: 0.9701804662235181]\n",
      "[Epoch 8350/10000] [Loss: 0.005252252407371998]\n"
     ]
    },
    {
     "name": "stderr",
     "output_type": "stream",
     "text": [
      "100%|██████████| 2/2 [00:00<00:00,  2.48it/s]\n"
     ]
    },
    {
     "name": "stdout",
     "output_type": "stream",
     "text": [
      "[Epoch 8350/10000] [Score: 0.9726396858355569]\n",
      "[Epoch 8375/10000] [Loss: 0.005243539749644696]\n"
     ]
    },
    {
     "name": "stderr",
     "output_type": "stream",
     "text": [
      "100%|██████████| 2/2 [00:00<00:00,  2.53it/s]\n"
     ]
    },
    {
     "name": "stdout",
     "output_type": "stream",
     "text": [
      "[Epoch 8375/10000] [Score: 0.9716518379278033]\n",
      "[Epoch 8400/10000] [Loss: 0.005097544561140239]\n"
     ]
    },
    {
     "name": "stderr",
     "output_type": "stream",
     "text": [
      "100%|██████████| 2/2 [00:00<00:00,  2.44it/s]\n"
     ]
    },
    {
     "name": "stdout",
     "output_type": "stream",
     "text": [
      "[Epoch 8400/10000] [Score: 0.9715084104229815]\n",
      "[Epoch 8425/10000] [Loss: 0.005051646297797561]\n"
     ]
    },
    {
     "name": "stderr",
     "output_type": "stream",
     "text": [
      "100%|██████████| 2/2 [00:00<00:00,  2.42it/s]\n"
     ]
    },
    {
     "name": "stdout",
     "output_type": "stream",
     "text": [
      "[Epoch 8425/10000] [Score: 0.9714390208875902]\n",
      "[Epoch 8450/10000] [Loss: 0.005243660856503993]\n"
     ]
    },
    {
     "name": "stderr",
     "output_type": "stream",
     "text": [
      "100%|██████████| 2/2 [00:00<00:00,  2.47it/s]\n"
     ]
    },
    {
     "name": "stdout",
     "output_type": "stream",
     "text": [
      "[Epoch 8450/10000] [Score: 0.9708021857902985]\n",
      "[Epoch 8475/10000] [Loss: 0.005132415627595037]\n"
     ]
    },
    {
     "name": "stderr",
     "output_type": "stream",
     "text": [
      "100%|██████████| 2/2 [00:00<00:00,  2.38it/s]\n"
     ]
    },
    {
     "name": "stdout",
     "output_type": "stream",
     "text": [
      "[Epoch 8475/10000] [Score: 0.9725662741621132]\n",
      "[Epoch 8500/10000] [Loss: 0.0050959308445453644]\n"
     ]
    },
    {
     "name": "stderr",
     "output_type": "stream",
     "text": [
      "100%|██████████| 2/2 [00:00<00:00,  2.45it/s]\n"
     ]
    },
    {
     "name": "stdout",
     "output_type": "stream",
     "text": [
      "[Epoch 8500/10000] [Score: 0.9717626710194037]\n",
      "[Epoch 8525/10000] [Loss: 0.005095142647624016]\n"
     ]
    },
    {
     "name": "stderr",
     "output_type": "stream",
     "text": [
      "100%|██████████| 2/2 [00:00<00:00,  2.13it/s]\n"
     ]
    },
    {
     "name": "stdout",
     "output_type": "stream",
     "text": [
      "[Epoch 8525/10000] [Score: 0.9708553996178383]\n",
      "[Epoch 8550/10000] [Loss: 0.005218604221008718]\n"
     ]
    },
    {
     "name": "stderr",
     "output_type": "stream",
     "text": [
      "100%|██████████| 2/2 [00:00<00:00,  2.32it/s]\n"
     ]
    },
    {
     "name": "stdout",
     "output_type": "stream",
     "text": [
      "[Epoch 8550/10000] [Score: 0.9703078317321454]\n",
      "[Epoch 8575/10000] [Loss: 0.005258426882792264]\n"
     ]
    },
    {
     "name": "stderr",
     "output_type": "stream",
     "text": [
      "100%|██████████| 2/2 [00:00<00:00,  2.30it/s]\n"
     ]
    },
    {
     "name": "stdout",
     "output_type": "stream",
     "text": [
      "[Epoch 8575/10000] [Score: 0.9713207312797]\n",
      "[Epoch 8600/10000] [Loss: 0.004991112439893186]\n"
     ]
    },
    {
     "name": "stderr",
     "output_type": "stream",
     "text": [
      "100%|██████████| 2/2 [00:00<00:00,  2.30it/s]\n"
     ]
    },
    {
     "name": "stdout",
     "output_type": "stream",
     "text": [
      "[Epoch 8600/10000] [Score: 0.9704735642926575]\n",
      "[Epoch 8625/10000] [Loss: 0.005107192399445921]\n"
     ]
    },
    {
     "name": "stderr",
     "output_type": "stream",
     "text": [
      "100%|██████████| 2/2 [00:00<00:00,  2.45it/s]\n"
     ]
    },
    {
     "name": "stdout",
     "output_type": "stream",
     "text": [
      "[Epoch 8625/10000] [Score: 0.971679300208146]\n",
      "[Epoch 8650/10000] [Loss: 0.005034834202378988]\n"
     ]
    },
    {
     "name": "stderr",
     "output_type": "stream",
     "text": [
      "100%|██████████| 2/2 [00:00<00:00,  2.43it/s]\n"
     ]
    },
    {
     "name": "stdout",
     "output_type": "stream",
     "text": [
      "[Epoch 8650/10000] [Score: 0.9718454900778742]\n",
      "[Epoch 8675/10000] [Loss: 0.00499698513187468]\n"
     ]
    },
    {
     "name": "stderr",
     "output_type": "stream",
     "text": [
      "100%|██████████| 2/2 [00:00<00:00,  2.32it/s]\n"
     ]
    },
    {
     "name": "stdout",
     "output_type": "stream",
     "text": [
      "[Epoch 8675/10000] [Score: 0.9707395007833958]\n",
      "[Epoch 8700/10000] [Loss: 0.00503948604920879]\n"
     ]
    },
    {
     "name": "stderr",
     "output_type": "stream",
     "text": [
      "100%|██████████| 2/2 [00:00<00:00,  2.16it/s]\n"
     ]
    },
    {
     "name": "stdout",
     "output_type": "stream",
     "text": [
      "[Epoch 8700/10000] [Score: 0.971287037920019]\n",
      "[Epoch 8725/10000] [Loss: 0.004797564162872732]\n"
     ]
    },
    {
     "name": "stderr",
     "output_type": "stream",
     "text": [
      "100%|██████████| 2/2 [00:00<00:00,  2.36it/s]\n"
     ]
    },
    {
     "name": "stdout",
     "output_type": "stream",
     "text": [
      "[Epoch 8725/10000] [Score: 0.9712337175356381]\n",
      "[Epoch 8750/10000] [Loss: 0.0050416852720081805]\n"
     ]
    },
    {
     "name": "stderr",
     "output_type": "stream",
     "text": [
      "100%|██████████| 2/2 [00:00<00:00,  2.24it/s]\n"
     ]
    },
    {
     "name": "stdout",
     "output_type": "stream",
     "text": [
      "[Epoch 8750/10000] [Score: 0.9719481161629037]\n"
     ]
    },
    {
     "ename": "KeyboardInterrupt",
     "evalue": "",
     "output_type": "error",
     "traceback": [
      "\u001b[1;31m---------------------------------------------------------------------------\u001b[0m",
      "\u001b[1;31mKeyboardInterrupt\u001b[0m                         Traceback (most recent call last)",
      "Cell \u001b[1;32mIn[8], line 23\u001b[0m\n\u001b[0;32m     20\u001b[0m \u001b[38;5;28;01mfor\u001b[39;00m epoch \u001b[38;5;129;01min\u001b[39;00m \u001b[38;5;28mrange\u001b[39m(nepochs):\n\u001b[0;32m     21\u001b[0m     model\u001b[38;5;241m.\u001b[39mtrain()\n\u001b[1;32m---> 23\u001b[0m     \u001b[38;5;28;01mfor\u001b[39;00m i, (eeg_batch, mask_batch) \u001b[38;5;129;01min\u001b[39;00m \u001b[38;5;28menumerate\u001b[39m(train_dataloader):\n\u001b[0;32m     24\u001b[0m         eeg_batch, mask_batch \u001b[38;5;241m=\u001b[39m eeg_batch\u001b[38;5;241m.\u001b[39mto(device), mask_batch\u001b[38;5;241m.\u001b[39mto(device)\n\u001b[0;32m     26\u001b[0m         logits \u001b[38;5;241m=\u001b[39m model(eeg_batch)\n",
      "File \u001b[1;32me:\\GitHub\\HQA_EEG\\.venv\\lib\\site-packages\\torch\\utils\\data\\dataloader.py:631\u001b[0m, in \u001b[0;36m_BaseDataLoaderIter.__next__\u001b[1;34m(self)\u001b[0m\n\u001b[0;32m    628\u001b[0m \u001b[38;5;28;01mif\u001b[39;00m \u001b[38;5;28mself\u001b[39m\u001b[38;5;241m.\u001b[39m_sampler_iter \u001b[38;5;129;01mis\u001b[39;00m \u001b[38;5;28;01mNone\u001b[39;00m:\n\u001b[0;32m    629\u001b[0m     \u001b[38;5;66;03m# TODO(https://github.com/pytorch/pytorch/issues/76750)\u001b[39;00m\n\u001b[0;32m    630\u001b[0m     \u001b[38;5;28mself\u001b[39m\u001b[38;5;241m.\u001b[39m_reset()  \u001b[38;5;66;03m# type: ignore[call-arg]\u001b[39;00m\n\u001b[1;32m--> 631\u001b[0m data \u001b[38;5;241m=\u001b[39m \u001b[38;5;28;43mself\u001b[39;49m\u001b[38;5;241;43m.\u001b[39;49m\u001b[43m_next_data\u001b[49m\u001b[43m(\u001b[49m\u001b[43m)\u001b[49m\n\u001b[0;32m    632\u001b[0m \u001b[38;5;28mself\u001b[39m\u001b[38;5;241m.\u001b[39m_num_yielded \u001b[38;5;241m+\u001b[39m\u001b[38;5;241m=\u001b[39m \u001b[38;5;241m1\u001b[39m\n\u001b[0;32m    633\u001b[0m \u001b[38;5;28;01mif\u001b[39;00m \u001b[38;5;28mself\u001b[39m\u001b[38;5;241m.\u001b[39m_dataset_kind \u001b[38;5;241m==\u001b[39m _DatasetKind\u001b[38;5;241m.\u001b[39mIterable \u001b[38;5;129;01mand\u001b[39;00m \\\n\u001b[0;32m    634\u001b[0m         \u001b[38;5;28mself\u001b[39m\u001b[38;5;241m.\u001b[39m_IterableDataset_len_called \u001b[38;5;129;01mis\u001b[39;00m \u001b[38;5;129;01mnot\u001b[39;00m \u001b[38;5;28;01mNone\u001b[39;00m \u001b[38;5;129;01mand\u001b[39;00m \\\n\u001b[0;32m    635\u001b[0m         \u001b[38;5;28mself\u001b[39m\u001b[38;5;241m.\u001b[39m_num_yielded \u001b[38;5;241m>\u001b[39m \u001b[38;5;28mself\u001b[39m\u001b[38;5;241m.\u001b[39m_IterableDataset_len_called:\n",
      "File \u001b[1;32me:\\GitHub\\HQA_EEG\\.venv\\lib\\site-packages\\torch\\utils\\data\\dataloader.py:675\u001b[0m, in \u001b[0;36m_SingleProcessDataLoaderIter._next_data\u001b[1;34m(self)\u001b[0m\n\u001b[0;32m    673\u001b[0m \u001b[38;5;28;01mdef\u001b[39;00m \u001b[38;5;21m_next_data\u001b[39m(\u001b[38;5;28mself\u001b[39m):\n\u001b[0;32m    674\u001b[0m     index \u001b[38;5;241m=\u001b[39m \u001b[38;5;28mself\u001b[39m\u001b[38;5;241m.\u001b[39m_next_index()  \u001b[38;5;66;03m# may raise StopIteration\u001b[39;00m\n\u001b[1;32m--> 675\u001b[0m     data \u001b[38;5;241m=\u001b[39m \u001b[38;5;28;43mself\u001b[39;49m\u001b[38;5;241;43m.\u001b[39;49m\u001b[43m_dataset_fetcher\u001b[49m\u001b[38;5;241;43m.\u001b[39;49m\u001b[43mfetch\u001b[49m\u001b[43m(\u001b[49m\u001b[43mindex\u001b[49m\u001b[43m)\u001b[49m  \u001b[38;5;66;03m# may raise StopIteration\u001b[39;00m\n\u001b[0;32m    676\u001b[0m     \u001b[38;5;28;01mif\u001b[39;00m \u001b[38;5;28mself\u001b[39m\u001b[38;5;241m.\u001b[39m_pin_memory:\n\u001b[0;32m    677\u001b[0m         data \u001b[38;5;241m=\u001b[39m _utils\u001b[38;5;241m.\u001b[39mpin_memory\u001b[38;5;241m.\u001b[39mpin_memory(data, \u001b[38;5;28mself\u001b[39m\u001b[38;5;241m.\u001b[39m_pin_memory_device)\n",
      "File \u001b[1;32me:\\GitHub\\HQA_EEG\\.venv\\lib\\site-packages\\torch\\utils\\data\\_utils\\fetch.py:51\u001b[0m, in \u001b[0;36m_MapDatasetFetcher.fetch\u001b[1;34m(self, possibly_batched_index)\u001b[0m\n\u001b[0;32m     49\u001b[0m         data \u001b[38;5;241m=\u001b[39m \u001b[38;5;28mself\u001b[39m\u001b[38;5;241m.\u001b[39mdataset\u001b[38;5;241m.\u001b[39m__getitems__(possibly_batched_index)\n\u001b[0;32m     50\u001b[0m     \u001b[38;5;28;01melse\u001b[39;00m:\n\u001b[1;32m---> 51\u001b[0m         data \u001b[38;5;241m=\u001b[39m [\u001b[38;5;28mself\u001b[39m\u001b[38;5;241m.\u001b[39mdataset[idx] \u001b[38;5;28;01mfor\u001b[39;00m idx \u001b[38;5;129;01min\u001b[39;00m possibly_batched_index]\n\u001b[0;32m     52\u001b[0m \u001b[38;5;28;01melse\u001b[39;00m:\n\u001b[0;32m     53\u001b[0m     data \u001b[38;5;241m=\u001b[39m \u001b[38;5;28mself\u001b[39m\u001b[38;5;241m.\u001b[39mdataset[possibly_batched_index]\n",
      "File \u001b[1;32me:\\GitHub\\HQA_EEG\\.venv\\lib\\site-packages\\torch\\utils\\data\\_utils\\fetch.py:51\u001b[0m, in \u001b[0;36m<listcomp>\u001b[1;34m(.0)\u001b[0m\n\u001b[0;32m     49\u001b[0m         data \u001b[38;5;241m=\u001b[39m \u001b[38;5;28mself\u001b[39m\u001b[38;5;241m.\u001b[39mdataset\u001b[38;5;241m.\u001b[39m__getitems__(possibly_batched_index)\n\u001b[0;32m     50\u001b[0m     \u001b[38;5;28;01melse\u001b[39;00m:\n\u001b[1;32m---> 51\u001b[0m         data \u001b[38;5;241m=\u001b[39m [\u001b[38;5;28;43mself\u001b[39;49m\u001b[38;5;241;43m.\u001b[39;49m\u001b[43mdataset\u001b[49m\u001b[43m[\u001b[49m\u001b[43midx\u001b[49m\u001b[43m]\u001b[49m \u001b[38;5;28;01mfor\u001b[39;00m idx \u001b[38;5;129;01min\u001b[39;00m possibly_batched_index]\n\u001b[0;32m     52\u001b[0m \u001b[38;5;28;01melse\u001b[39;00m:\n\u001b[0;32m     53\u001b[0m     data \u001b[38;5;241m=\u001b[39m \u001b[38;5;28mself\u001b[39m\u001b[38;5;241m.\u001b[39mdataset[possibly_batched_index]\n",
      "Cell \u001b[1;32mIn[3], line 21\u001b[0m, in \u001b[0;36mEEGDataset.__getitem__\u001b[1;34m(self, idx)\u001b[0m\n\u001b[0;32m     18\u001b[0m length \u001b[38;5;241m=\u001b[39m mask\u001b[38;5;241m.\u001b[39mshape[\u001b[38;5;241m0\u001b[39m]\n\u001b[0;32m     20\u001b[0m size \u001b[38;5;241m=\u001b[39m \u001b[38;5;241m5000\u001b[39m\n\u001b[1;32m---> 21\u001b[0m smask \u001b[38;5;241m=\u001b[39m (\u001b[43mnp\u001b[49m\u001b[38;5;241;43m.\u001b[39;49m\u001b[43msum\u001b[49m\u001b[43m(\u001b[49m\u001b[43mmask\u001b[49m\u001b[43m[\u001b[49m\u001b[43m:\u001b[49m\u001b[38;5;241;43m-\u001b[39;49m\u001b[43msize\u001b[49m\u001b[43m]\u001b[49m\u001b[43m,\u001b[49m\u001b[43m \u001b[49m\u001b[43maxis\u001b[49m\u001b[38;5;241;43m=\u001b[39;49m\u001b[38;5;241;43m1\u001b[39;49m\u001b[43m)\u001b[49m \u001b[38;5;241m>\u001b[39m \u001b[38;5;241m0\u001b[39m)\u001b[38;5;241m.\u001b[39mastype(np\u001b[38;5;241m.\u001b[39muint8)\n\u001b[0;32m     22\u001b[0m smask \u001b[38;5;241m=\u001b[39m smask \u001b[38;5;241m*\u001b[39m \u001b[38;5;241m5\u001b[39m \u001b[38;5;241m+\u001b[39m \u001b[38;5;241m1\u001b[39m\n\u001b[0;32m     23\u001b[0m p \u001b[38;5;241m=\u001b[39m smask \u001b[38;5;241m/\u001b[39m smask\u001b[38;5;241m.\u001b[39msum()\n",
      "File \u001b[1;32me:\\GitHub\\HQA_EEG\\.venv\\lib\\site-packages\\numpy\\core\\fromnumeric.py:2313\u001b[0m, in \u001b[0;36msum\u001b[1;34m(a, axis, dtype, out, keepdims, initial, where)\u001b[0m\n\u001b[0;32m   2310\u001b[0m         \u001b[38;5;28;01mreturn\u001b[39;00m out\n\u001b[0;32m   2311\u001b[0m     \u001b[38;5;28;01mreturn\u001b[39;00m res\n\u001b[1;32m-> 2313\u001b[0m \u001b[38;5;28;01mreturn\u001b[39;00m \u001b[43m_wrapreduction\u001b[49m\u001b[43m(\u001b[49m\u001b[43ma\u001b[49m\u001b[43m,\u001b[49m\u001b[43m \u001b[49m\u001b[43mnp\u001b[49m\u001b[38;5;241;43m.\u001b[39;49m\u001b[43madd\u001b[49m\u001b[43m,\u001b[49m\u001b[43m \u001b[49m\u001b[38;5;124;43m'\u001b[39;49m\u001b[38;5;124;43msum\u001b[39;49m\u001b[38;5;124;43m'\u001b[39;49m\u001b[43m,\u001b[49m\u001b[43m \u001b[49m\u001b[43maxis\u001b[49m\u001b[43m,\u001b[49m\u001b[43m \u001b[49m\u001b[43mdtype\u001b[49m\u001b[43m,\u001b[49m\u001b[43m \u001b[49m\u001b[43mout\u001b[49m\u001b[43m,\u001b[49m\u001b[43m \u001b[49m\u001b[43mkeepdims\u001b[49m\u001b[38;5;241;43m=\u001b[39;49m\u001b[43mkeepdims\u001b[49m\u001b[43m,\u001b[49m\n\u001b[0;32m   2314\u001b[0m \u001b[43m                      \u001b[49m\u001b[43minitial\u001b[49m\u001b[38;5;241;43m=\u001b[39;49m\u001b[43minitial\u001b[49m\u001b[43m,\u001b[49m\u001b[43m \u001b[49m\u001b[43mwhere\u001b[49m\u001b[38;5;241;43m=\u001b[39;49m\u001b[43mwhere\u001b[49m\u001b[43m)\u001b[49m\n",
      "File \u001b[1;32me:\\GitHub\\HQA_EEG\\.venv\\lib\\site-packages\\numpy\\core\\fromnumeric.py:88\u001b[0m, in \u001b[0;36m_wrapreduction\u001b[1;34m(obj, ufunc, method, axis, dtype, out, **kwargs)\u001b[0m\n\u001b[0;32m     85\u001b[0m         \u001b[38;5;28;01melse\u001b[39;00m:\n\u001b[0;32m     86\u001b[0m             \u001b[38;5;28;01mreturn\u001b[39;00m reduction(axis\u001b[38;5;241m=\u001b[39maxis, out\u001b[38;5;241m=\u001b[39mout, \u001b[38;5;241m*\u001b[39m\u001b[38;5;241m*\u001b[39mpasskwargs)\n\u001b[1;32m---> 88\u001b[0m \u001b[38;5;28;01mreturn\u001b[39;00m ufunc\u001b[38;5;241m.\u001b[39mreduce(obj, axis, dtype, out, \u001b[38;5;241m*\u001b[39m\u001b[38;5;241m*\u001b[39mpasskwargs)\n",
      "\u001b[1;31mKeyboardInterrupt\u001b[0m: "
     ]
    }
   ],
   "source": [
    "import copy\n",
    "import torch.nn.functional as F\n",
    "\n",
    "from sklearn import metrics\n",
    "from nnspt.segmentation.unet import Unet\n",
    "\n",
    "model = Unet(in_channels=32, out_channels=6, encoder='timm-efficientnet-b1')\n",
    "model.to(device)\n",
    "\n",
    "nepochs = 10000\n",
    "\n",
    "opt = torch.optim.AdamW(model.parameters(), lr=0.00175)\n",
    "shed = torch.optim.lr_scheduler.CosineAnnealingLR(opt, nepochs*len(train_dataloader))\n",
    "\n",
    "loss_his, train_loss = [], []\n",
    "\n",
    "best_score = 0.\n",
    "best_state_dict = copy.deepcopy(model.state_dict())\n",
    "\n",
    "for epoch in range(nepochs):\n",
    "    model.train()\n",
    "    \n",
    "    for i, (eeg_batch, mask_batch) in enumerate(train_dataloader):\n",
    "        eeg_batch, mask_batch = eeg_batch.to(device), mask_batch.to(device)\n",
    "\n",
    "        logits = model(eeg_batch)\n",
    "        loss = F.binary_cross_entropy_with_logits(logits, mask_batch.float())\n",
    "        loss.backward()\n",
    "\n",
    "        opt.step()\n",
    "        shed.step()\n",
    "        opt.zero_grad()\n",
    "\n",
    "        train_loss.append(loss.item())\n",
    "        \n",
    "    if (epoch + 1) % 25 == 0:\n",
    "        loss_his.append(np.mean(train_loss))\n",
    "        train_loss.clear()\n",
    "\n",
    "        print('[Epoch {}/{}] [Loss: {}]'.format(epoch+1, nepochs, loss_his[-1]))\n",
    "        \n",
    "        model.eval()\n",
    "\n",
    "        y_pred = []\n",
    "\n",
    "        size = 10000\n",
    "        \n",
    "        for eeg_batch, _ in tqdm(valid_dataloader):\n",
    "            for idx in range((eeg_batch.shape[-1] + size - 1) // size):\n",
    "                with torch.no_grad():\n",
    "                    eeg_batch_ = eeg_batch[:, :, idx*size: (idx+1)*size].to(device)\n",
    "\n",
    "                    logits = model(eeg_batch_)\n",
    "                    probs = torch.sigmoid(logits).cpu().numpy()[0]\n",
    "\n",
    "                    y_pred.append(probs)\n",
    "\n",
    "        y_pred = np.concatenate(y_pred, axis=1).T\n",
    "        y_true = np.concatenate(ys_valid, axis=0)\n",
    "\n",
    "        score = metrics.roc_auc_score(y_true, y_pred)\n",
    "\n",
    "        print('[Epoch {}/{}] [Score: {}]'.format(epoch+1, nepochs, score))\n",
    "\n",
    "        if score > best_score:\n",
    "            best_score = score\n",
    "            best_state_dict = copy.deepcopy(model.state_dict())\n",
    "    \n",
    "model.load_state_dict(best_state_dict)"
   ]
  },
  {
   "cell_type": "markdown",
   "id": "c7600c54",
   "metadata": {
    "papermill": {
     "duration": 0.03499,
     "end_time": "2024-01-18T12:38:14.624607",
     "exception": false,
     "start_time": "2024-01-18T12:38:14.589617",
     "status": "completed"
    },
    "tags": []
   },
   "source": [
    "# Score on train part"
   ]
  },
  {
   "cell_type": "code",
   "execution_count": 6,
   "id": "f870c4ef",
   "metadata": {
    "execution": {
     "iopub.execute_input": "2024-01-18T12:38:14.695400Z",
     "iopub.status.busy": "2024-01-18T12:38:14.695007Z",
     "iopub.status.idle": "2024-01-18T12:38:14.702078Z",
     "shell.execute_reply": "2024-01-18T12:38:14.701175Z"
    },
    "papermill": {
     "duration": 0.04495,
     "end_time": "2024-01-18T12:38:14.703920",
     "exception": false,
     "start_time": "2024-01-18T12:38:14.658970",
     "status": "completed"
    },
    "tags": []
   },
   "outputs": [],
   "source": [
    "import matplotlib.pyplot as plt\n",
    "\n",
    "def plot_roc(y_true, y_pred):\n",
    "    fig, axs = plt.subplots(3, 2, figsize=(15, 13))\n",
    "\n",
    "    for i, label in enumerate(train_dataloader):\n",
    "        fpr, tpr, _ = metrics.roc_curve(y_true[i], y_pred[i])\n",
    "        ax = axs[i//2, i%2]\n",
    "        ax.plot(fpr, tpr)\n",
    "        ax.set_title(label + ' ROC')\n",
    "        ax.plot([0, 1], [0, 1], 'k--')\n",
    "\n",
    "    plt.show()"
   ]
  },
  {
   "cell_type": "code",
   "execution_count": 7,
   "id": "1d138df7",
   "metadata": {
    "execution": {
     "iopub.execute_input": "2024-01-18T12:38:14.774759Z",
     "iopub.status.busy": "2024-01-18T12:38:14.774011Z",
     "iopub.status.idle": "2024-01-18T12:40:11.852586Z",
     "shell.execute_reply": "2024-01-18T12:40:11.851293Z"
    },
    "papermill": {
     "duration": 117.164191,
     "end_time": "2024-01-18T12:40:11.902660",
     "exception": false,
     "start_time": "2024-01-18T12:38:14.738469",
     "status": "completed"
    },
    "tags": []
   },
   "outputs": [
    {
     "name": "stderr",
     "output_type": "stream",
     "text": [
      "100%|██████████| 94/94 [01:37<00:00,  1.04s/it]\n"
     ]
    },
    {
     "ename": "TypeError",
     "evalue": "can only concatenate list (not \"str\") to list",
     "output_type": "error",
     "traceback": [
      "\u001b[1;31m---------------------------------------------------------------------------\u001b[0m",
      "\u001b[1;31mTypeError\u001b[0m                                 Traceback (most recent call last)",
      "Cell \u001b[1;32mIn[7], line 20\u001b[0m\n\u001b[0;32m     17\u001b[0m y_pred \u001b[38;5;241m=\u001b[39m np\u001b[38;5;241m.\u001b[39mconcatenate(y_pred, axis\u001b[38;5;241m=\u001b[39m\u001b[38;5;241m1\u001b[39m)\u001b[38;5;241m.\u001b[39mT\n\u001b[0;32m     18\u001b[0m y_true \u001b[38;5;241m=\u001b[39m np\u001b[38;5;241m.\u001b[39mconcatenate(ys_train, axis\u001b[38;5;241m=\u001b[39m\u001b[38;5;241m0\u001b[39m)\n\u001b[1;32m---> 20\u001b[0m \u001b[43mplot_roc\u001b[49m\u001b[43m(\u001b[49m\u001b[43my_true\u001b[49m\u001b[38;5;241;43m.\u001b[39;49m\u001b[43mT\u001b[49m\u001b[43m,\u001b[49m\u001b[43m \u001b[49m\u001b[43my_pred\u001b[49m\u001b[38;5;241;43m.\u001b[39;49m\u001b[43mT\u001b[49m\u001b[43m)\u001b[49m\n\u001b[0;32m     22\u001b[0m \u001b[38;5;28mprint\u001b[39m(\u001b[38;5;124m'\u001b[39m\u001b[38;5;124mroc auc: \u001b[39m\u001b[38;5;124m'\u001b[39m, metrics\u001b[38;5;241m.\u001b[39mroc_auc_score(y_true, y_pred))\n",
      "Cell \u001b[1;32mIn[6], line 10\u001b[0m, in \u001b[0;36mplot_roc\u001b[1;34m(y_true, y_pred)\u001b[0m\n\u001b[0;32m      8\u001b[0m     ax \u001b[38;5;241m=\u001b[39m axs[i\u001b[38;5;241m/\u001b[39m\u001b[38;5;241m/\u001b[39m\u001b[38;5;241m2\u001b[39m, i\u001b[38;5;241m%\u001b[39m\u001b[38;5;241m2\u001b[39m]\n\u001b[0;32m      9\u001b[0m     ax\u001b[38;5;241m.\u001b[39mplot(fpr, tpr)\n\u001b[1;32m---> 10\u001b[0m     ax\u001b[38;5;241m.\u001b[39mset_title(\u001b[43mlabel\u001b[49m\u001b[43m \u001b[49m\u001b[38;5;241;43m+\u001b[39;49m\u001b[43m \u001b[49m\u001b[38;5;124;43m'\u001b[39;49m\u001b[38;5;124;43m ROC\u001b[39;49m\u001b[38;5;124;43m'\u001b[39;49m)\n\u001b[0;32m     11\u001b[0m     ax\u001b[38;5;241m.\u001b[39mplot([\u001b[38;5;241m0\u001b[39m, \u001b[38;5;241m1\u001b[39m], [\u001b[38;5;241m0\u001b[39m, \u001b[38;5;241m1\u001b[39m], \u001b[38;5;124m'\u001b[39m\u001b[38;5;124mk--\u001b[39m\u001b[38;5;124m'\u001b[39m)\n\u001b[0;32m     13\u001b[0m plt\u001b[38;5;241m.\u001b[39mshow()\n",
      "\u001b[1;31mTypeError\u001b[0m: can only concatenate list (not \"str\") to list"
     ]
    },
    {
     "data": {
      "image/png": "[encoded data removed]",
      "text/plain": [
       "<Figure size 1500x1300 with 6 Axes>"
      ]
     },
     "metadata": {},
     "output_type": "display_data"
    }
   ],
   "source": [
    "model.eval()\n",
    "\n",
    "y_pred = []\n",
    "\n",
    "size = 10000\n",
    "\n",
    "for eeg_batch, _ in tqdm(train_dataloader_):\n",
    "    for idx in range((eeg_batch.shape[-1] + size - 1) // size):\n",
    "        with torch.no_grad():\n",
    "            eeg_batch_ = eeg_batch[:, :, idx*size: (idx+1)*size].to(device)\n",
    "\n",
    "            logits = model(eeg_batch_)\n",
    "            probs = torch.sigmoid(logits).cpu().numpy()[0]\n",
    "\n",
    "            y_pred.append(probs)\n",
    "\n",
    "y_pred = np.concatenate(y_pred, axis=1).T\n",
    "y_true = np.concatenate(ys_train, axis=0)\n",
    "\n",
    "plot_roc(y_true.T, y_pred.T)\n",
    "\n",
    "print('roc auc: ', metrics.roc_auc_score(y_true, y_pred))"
   ]
  },
  {
   "cell_type": "markdown",
   "id": "8fee69a3",
   "metadata": {
    "papermill": {
     "duration": 0.048205,
     "end_time": "2024-01-18T12:40:11.999935",
     "exception": false,
     "start_time": "2024-01-18T12:40:11.951730",
     "status": "completed"
    },
    "tags": []
   },
   "source": [
    "# Score on val part"
   ]
  },
  {
   "cell_type": "code",
   "execution_count": null,
   "id": "db09a572",
   "metadata": {
    "execution": {
     "iopub.execute_input": "2024-01-18T12:40:12.106395Z",
     "iopub.status.busy": "2024-01-18T12:40:12.105056Z",
     "iopub.status.idle": "2024-01-18T12:40:15.119186Z",
     "shell.execute_reply": "2024-01-18T12:40:15.117881Z"
    },
    "papermill": {
     "duration": 3.069321,
     "end_time": "2024-01-18T12:40:15.121189",
     "exception": false,
     "start_time": "2024-01-18T12:40:12.051868",
     "status": "completed"
    },
    "tags": []
   },
   "outputs": [],
   "source": [
    "model.eval()\n",
    "\n",
    "y_pred = []\n",
    "\n",
    "size = 10000\n",
    "\n",
    "for eeg_batch, _ in tqdm(valid_dataloader):\n",
    "    for idx in range((eeg_batch.shape[-1] + size - 1) // size):\n",
    "        with torch.no_grad():\n",
    "            eeg_batch_ = eeg_batch[:, :, idx*size: (idx+1)*size].to(device)\n",
    "\n",
    "            logits = model(eeg_batch_)\n",
    "            probs = torch.sigmoid(logits).cpu().numpy()[0]\n",
    "\n",
    "            y_pred.append(probs)\n",
    "\n",
    "y_pred = np.concatenate(y_pred, axis=1).T\n",
    "y_true = np.concatenate(ys_valid, axis=0)\n",
    "\n",
    "plot_roc(y_true.T, y_pred.T)\n",
    "\n",
    "print('roc auc: ', metrics.roc_auc_score(y_true, y_pred))"
   ]
  },
  {
   "cell_type": "markdown",
   "id": "0309ef8b",
   "metadata": {
    "papermill": {
     "duration": 0.047166,
     "end_time": "2024-01-18T12:40:15.215459",
     "exception": false,
     "start_time": "2024-01-18T12:40:15.168293",
     "status": "completed"
    },
    "tags": []
   },
   "source": [
    "# Create submission"
   ]
  },
  {
   "cell_type": "code",
   "execution_count": null,
   "id": "08626792",
   "metadata": {
    "execution": {
     "iopub.execute_input": "2024-01-18T12:40:15.315332Z",
     "iopub.status.busy": "2024-01-18T12:40:15.314940Z",
     "iopub.status.idle": "2024-01-18T12:40:27.332256Z",
     "shell.execute_reply": "2024-01-18T12:40:27.331341Z"
    },
    "papermill": {
     "duration": 12.070205,
     "end_time": "2024-01-18T12:40:27.334624",
     "exception": false,
     "start_time": "2024-01-18T12:40:15.264419",
     "status": "completed"
    },
    "tags": []
   },
   "outputs": [],
   "source": [
    "import pandas as pd\n",
    "from tqdm import tqdm\n",
    "\n",
    "xs_test = []\n",
    "lengths = {}\n",
    "\n",
    "testdir = Path('test')\n",
    "\n",
    "FNAME = 'subj{}_series{}_{}.csv'\n",
    "\n",
    "for subj in range(1, 13):\n",
    "    for series in [9, 10]:\n",
    "        datapath = testdir / FNAME.format(subj, series, 'data')\n",
    "\n",
    "        x = pd.read_csv(datapath)\n",
    "        x = x.iloc[:,1:].values\n",
    "\n",
    "        xs_test.append(x.astype(np.float32))\n",
    "        lengths['{}_{}'.format(subj, series)] = xs_test[-1].shape[0]"
   ]
  },
  {
   "cell_type": "code",
   "execution_count": null,
   "id": "916e426f",
   "metadata": {
    "execution": {
     "iopub.execute_input": "2024-01-18T12:40:27.429109Z",
     "iopub.status.busy": "2024-01-18T12:40:27.428732Z",
     "iopub.status.idle": "2024-01-18T12:40:27.435052Z",
     "shell.execute_reply": "2024-01-18T12:40:27.434216Z"
    },
    "papermill": {
     "duration": 0.055813,
     "end_time": "2024-01-18T12:40:27.436936",
     "exception": false,
     "start_time": "2024-01-18T12:40:27.381123",
     "status": "completed"
    },
    "tags": []
   },
   "outputs": [],
   "source": [
    "class EEGDatasetTest(Dataset):\n",
    "    def __init__(self, x):\n",
    "        self.x = x\n",
    "\n",
    "    def __getitem__(self, idx):\n",
    "        eeg = self.x[idx]\n",
    "\n",
    "        return eeg.T\n",
    "\n",
    "    def __len__(self):\n",
    "        return len(self.x)\n",
    "\n",
    "dataset = EEGDatasetTest(xs_test)\n",
    "test_dataloader = DataLoader(dataset, batch_size=1, num_workers=3, shuffle=False)"
   ]
  },
  {
   "cell_type": "code",
   "execution_count": null,
   "id": "488fe844",
   "metadata": {
    "execution": {
     "iopub.execute_input": "2024-01-18T12:40:27.530881Z",
     "iopub.status.busy": "2024-01-18T12:40:27.530481Z",
     "iopub.status.idle": "2024-01-18T12:40:37.275856Z",
     "shell.execute_reply": "2024-01-18T12:40:37.274708Z"
    },
    "papermill": {
     "duration": 9.795097,
     "end_time": "2024-01-18T12:40:37.278016",
     "exception": false,
     "start_time": "2024-01-18T12:40:27.482919",
     "status": "completed"
    },
    "tags": []
   },
   "outputs": [],
   "source": [
    "model.eval()\n",
    "\n",
    "y_pred = []\n",
    "\n",
    "size = 10000\n",
    "\n",
    "for eeg_batch in tqdm(test_dataloader):\n",
    "    for idx in range((eeg_batch.shape[-1] + size - 1) // size):\n",
    "        with torch.no_grad():\n",
    "            eeg_batch_ = eeg_batch[:, :, idx*size: (idx+1)*size].to(device)\n",
    "\n",
    "            logits = model(eeg_batch_)\n",
    "            probs = torch.sigmoid(logits).cpu().numpy()[0]\n",
    "\n",
    "            y_pred.append(probs)\n",
    "\n",
    "y_pred = np.concatenate(y_pred, axis=1).T"
   ]
  },
  {
   "cell_type": "code",
   "execution_count": null,
   "id": "b972e959",
   "metadata": {
    "execution": {
     "iopub.execute_input": "2024-01-18T12:40:37.377179Z",
     "iopub.status.busy": "2024-01-18T12:40:37.376291Z",
     "iopub.status.idle": "2024-01-18T12:41:35.554179Z",
     "shell.execute_reply": "2024-01-18T12:41:35.553261Z"
    },
    "papermill": {
     "duration": 58.279961,
     "end_time": "2024-01-18T12:41:35.606515",
     "exception": false,
     "start_time": "2024-01-18T12:40:37.326554",
     "status": "completed"
    },
    "tags": []
   },
   "outputs": [],
   "source": [
    "submission = pd.DataFrame(y_pred, index=['subj{}_series{}_{}'.format(sbj, i, j) for sbj in range(1, 13) for i in [9, 10] for j in range(lengths['{}_{}'.format(sbj, i)])], columns=labels)\n",
    "submission.to_csv('Submission.csv', index_label='id', float_format='%.3f')\n",
    "\n",
    "submission.tail()"
   ]
  },
  {
   "cell_type": "code",
   "execution_count": null,
   "id": "4d787f90",
   "metadata": {
    "execution": {
     "iopub.execute_input": "2024-01-18T12:41:35.705952Z",
     "iopub.status.busy": "2024-01-18T12:41:35.705009Z",
     "iopub.status.idle": "2024-01-18T12:41:36.727376Z",
     "shell.execute_reply": "2024-01-18T12:41:36.726332Z"
    },
    "papermill": {
     "duration": 1.074214,
     "end_time": "2024-01-18T12:41:36.729596",
     "exception": false,
     "start_time": "2024-01-18T12:41:35.655382",
     "status": "completed"
    },
    "tags": []
   },
   "outputs": [],
   "source": [
    "!head Submission.csv"
   ]
  },
  {
   "cell_type": "code",
   "execution_count": null,
   "id": "33b90549",
   "metadata": {
    "execution": {
     "iopub.execute_input": "2024-01-18T12:41:36.829602Z",
     "iopub.status.busy": "2024-01-18T12:41:36.828549Z",
     "iopub.status.idle": "2024-01-18T12:41:37.853855Z",
     "shell.execute_reply": "2024-01-18T12:41:37.852045Z"
    },
    "papermill": {
     "duration": 1.077851,
     "end_time": "2024-01-18T12:41:37.856453",
     "exception": false,
     "start_time": "2024-01-18T12:41:36.778602",
     "status": "completed"
    },
    "tags": []
   },
   "outputs": [],
   "source": [
    "!head sample_submission.csv"
   ]
  }
 ],
 "metadata": {
  "kaggle": {
   "accelerator": "gpu",
   "dataSources": [
    {
     "databundleVersionId": 44220,
     "sourceId": 4477,
     "sourceType": "competition"
    }
   ],
   "dockerImageVersionId": 30635,
   "isGpuEnabled": true,
   "isInternetEnabled": true,
   "language": "python",
   "sourceType": "notebook"
  },
  "kernelspec": {
   "display_name": "Python 3",
   "language": "python",
   "name": "python3"
  },
  "language_info": {
   "codemirror_mode": {
    "name": "ipython",
    "version": 3
   },
   "file_extension": ".py",
   "mimetype": "text/x-python",
   "name": "python",
   "nbconvert_exporter": "python",
   "pygments_lexer": "ipython3",
   "version": "3.10.10"
  },
  "papermill": {
   "default_parameters": {},
   "duration": 1751.186703,
   "end_time": "2024-01-18T12:41:40.599702",
   "environment_variables": {},
   "exception": null,
   "input_path": "__notebook__.ipynb",
   "output_path": "__notebook__.ipynb",
   "parameters": {},
   "start_time": "2024-01-18T12:12:29.412999",
   "version": "2.4.0"
  }
 },
 "nbformat": 4,
 "nbformat_minor": 5
}
